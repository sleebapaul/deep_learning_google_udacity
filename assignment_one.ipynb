{
 "cells": [
  {
   "cell_type": "code",
   "execution_count": 1,
   "metadata": {
    "collapsed": true
   },
   "outputs": [],
   "source": [
    "from __future__ import print_function\n",
    "import matplotlib.pyplot as plt\n",
    "import numpy as np\n",
    "import os\n",
    "import sys\n",
    "import tarfile\n",
    "from IPython.display import display, Image\n",
    "from scipy import ndimage\n",
    "from sklearn.linear_model import LogisticRegression\n",
    "from six.moves.urllib.request import urlretrieve\n",
    "from six.moves import cPickle as pickle\n",
    "%matplotlib inline"
   ]
  },
  {
   "cell_type": "markdown",
   "metadata": {
    "collapsed": true
   },
   "source": [
    "## Get the data from the URL"
   ]
  },
  {
   "cell_type": "code",
   "execution_count": 4,
   "metadata": {},
   "outputs": [
    {
     "name": "stdout",
     "output_type": "stream",
     "text": [
      "Attempting to download: notMNIST_large.tar.gz\n",
      "0%....5%....10%....15%....20%....25%....30%....35%....40%....45%....50%....55%....60%....65%....70%....75%....80%....85%....90%....95%....100%\n",
      "Download Complete!\n",
      "Found and verified /Users/jenkins/sleeba/deep_learning_udacity/not_mnist/notMNIST_large.tar.gz\n",
      "Attempting to download: notMNIST_small.tar.gz\n",
      "0%....5%....10%....15%....20%....25%....30%....35%....40%....45%....50%....55%....60%....65%....70%....75%....80%....85%....90%....95%....100%\n",
      "Download Complete!\n",
      "Found and verified /Users/jenkins/sleeba/deep_learning_udacity/not_mnist/notMNIST_small.tar.gz\n"
     ]
    }
   ],
   "source": [
    "url = 'https://commondatastorage.googleapis.com/books1000/'\n",
    "last_percent_reported = None\n",
    "data_root = '/Users/jenkins/sleeba/deep_learning_udacity/not_mnist/' # Change me to store data elsewhere\n",
    "\n",
    "def download_progress_hook(count, blockSize, totalSize):\n",
    "  \"\"\"A hook to report the progress of a download. This is mostly intended for users with\n",
    "  slow internet connections. Reports every 5% change in download progress.\n",
    "  \"\"\"\n",
    "  global last_percent_reported\n",
    "  percent = int(count * blockSize * 100 / totalSize)\n",
    "\n",
    "  if last_percent_reported != percent:\n",
    "    if percent % 5 == 0:\n",
    "      sys.stdout.write(\"%s%%\" % percent)\n",
    "      sys.stdout.flush()\n",
    "    else:\n",
    "      sys.stdout.write(\".\")\n",
    "      sys.stdout.flush()\n",
    "      \n",
    "    last_percent_reported = percent\n",
    "        \n",
    "def maybe_download(filename, expected_bytes, force=False):\n",
    "  \"\"\"Download a file if not present, and make sure it's the right size.\"\"\"\n",
    "  dest_filename = os.path.join(data_root, filename)\n",
    "  if force or not os.path.exists(dest_filename):\n",
    "    print('Attempting to download:', filename) \n",
    "    filename, _ = urlretrieve(url + filename, dest_filename, reporthook=download_progress_hook)\n",
    "    print('\\nDownload Complete!')\n",
    "  statinfo = os.stat(dest_filename)\n",
    "  if statinfo.st_size == expected_bytes:\n",
    "    print('Found and verified', dest_filename)\n",
    "  else:\n",
    "    raise Exception(\n",
    "      'Failed to verify ' + dest_filename + '. Can you get to it with a browser?')\n",
    "  return dest_filename\n",
    "\n",
    "train_filename = maybe_download('notMNIST_large.tar.gz', 247336696)\n",
    "test_filename = maybe_download('notMNIST_small.tar.gz', 8458043)"
   ]
  },
  {
   "cell_type": "markdown",
   "metadata": {},
   "source": [
    "## Extract the files "
   ]
  },
  {
   "cell_type": "code",
   "execution_count": 5,
   "metadata": {},
   "outputs": [
    {
     "name": "stdout",
     "output_type": "stream",
     "text": [
      "Extracting data for /Users/jenkins/sleeba/deep_learning_udacity/not_mnist/notMNIST_large. This may take a while. Please wait.\n",
      "['/Users/jenkins/sleeba/deep_learning_udacity/not_mnist/notMNIST_large/A', '/Users/jenkins/sleeba/deep_learning_udacity/not_mnist/notMNIST_large/B', '/Users/jenkins/sleeba/deep_learning_udacity/not_mnist/notMNIST_large/C', '/Users/jenkins/sleeba/deep_learning_udacity/not_mnist/notMNIST_large/D', '/Users/jenkins/sleeba/deep_learning_udacity/not_mnist/notMNIST_large/E', '/Users/jenkins/sleeba/deep_learning_udacity/not_mnist/notMNIST_large/F', '/Users/jenkins/sleeba/deep_learning_udacity/not_mnist/notMNIST_large/G', '/Users/jenkins/sleeba/deep_learning_udacity/not_mnist/notMNIST_large/H', '/Users/jenkins/sleeba/deep_learning_udacity/not_mnist/notMNIST_large/I', '/Users/jenkins/sleeba/deep_learning_udacity/not_mnist/notMNIST_large/J']\n",
      "Extracting data for /Users/jenkins/sleeba/deep_learning_udacity/not_mnist/notMNIST_small. This may take a while. Please wait.\n",
      "['/Users/jenkins/sleeba/deep_learning_udacity/not_mnist/notMNIST_small/A', '/Users/jenkins/sleeba/deep_learning_udacity/not_mnist/notMNIST_small/B', '/Users/jenkins/sleeba/deep_learning_udacity/not_mnist/notMNIST_small/C', '/Users/jenkins/sleeba/deep_learning_udacity/not_mnist/notMNIST_small/D', '/Users/jenkins/sleeba/deep_learning_udacity/not_mnist/notMNIST_small/E', '/Users/jenkins/sleeba/deep_learning_udacity/not_mnist/notMNIST_small/F', '/Users/jenkins/sleeba/deep_learning_udacity/not_mnist/notMNIST_small/G', '/Users/jenkins/sleeba/deep_learning_udacity/not_mnist/notMNIST_small/H', '/Users/jenkins/sleeba/deep_learning_udacity/not_mnist/notMNIST_small/I', '/Users/jenkins/sleeba/deep_learning_udacity/not_mnist/notMNIST_small/J']\n"
     ]
    }
   ],
   "source": [
    "num_classes = 10\n",
    "np.random.seed(133)\n",
    "\n",
    "def maybe_extract(filename, force=False):\n",
    "  root = os.path.splitext(os.path.splitext(filename)[0])[0]  # remove .tar.gz\n",
    "  if os.path.isdir(root) and not force:\n",
    "    # You may override by setting force=True.\n",
    "    print('%s already present - Skipping extraction of %s.' % (root, filename))\n",
    "  else:\n",
    "    print('Extracting data for %s. This may take a while. Please wait.' % root)\n",
    "    tar = tarfile.open(filename)\n",
    "    sys.stdout.flush()\n",
    "    tar.extractall(data_root)\n",
    "    tar.close()\n",
    "  data_folders = [\n",
    "    os.path.join(root, d) for d in sorted(os.listdir(root))\n",
    "    if os.path.isdir(os.path.join(root, d))]\n",
    "  if len(data_folders) != num_classes:\n",
    "    raise Exception(\n",
    "      'Expected %d folders, one per class. Found %d instead.' % (\n",
    "        num_classes, len(data_folders)))\n",
    "  print(data_folders)\n",
    "  return data_folders\n",
    "\n",
    "train_folders = maybe_extract(train_filename)\n",
    "test_folders = maybe_extract(test_filename)"
   ]
  },
  {
   "cell_type": "markdown",
   "metadata": {},
   "source": [
    "## Displaying a sample picture"
   ]
  },
  {
   "cell_type": "code",
   "execution_count": 6,
   "metadata": {},
   "outputs": [
    {
     "data": {
      "image/png": "[encoded data removed]",
      "text/plain": [
       "<IPython.core.display.Image object>"
      ]
     },
     "execution_count": 6,
     "metadata": {},
     "output_type": "execute_result"
    }
   ],
   "source": [
    "from IPython.display import Image\n",
    "Image(\"/Users/jenkins/sleeba/deep_learning_udacity/not_mnist/notMNIST_small/A/Q2hlbHRlbmhhbS1VbHRyYUNvbmQub3Rm.png\")"
   ]
  },
  {
   "cell_type": "markdown",
   "metadata": {},
   "source": [
    "## Pickling the test and train data"
   ]
  },
  {
   "cell_type": "code",
   "execution_count": 46,
   "metadata": {},
   "outputs": [
    {
     "ename": "NameError",
     "evalue": "name 'train_folders' is not defined",
     "output_type": "error",
     "traceback": [
      "\u001b[0;31m---------------------------------------------------------------------------\u001b[0m",
      "\u001b[0;31mNameError\u001b[0m                                 Traceback (most recent call last)",
      "\u001b[0;32m<ipython-input-46-15fed85a5d34>\u001b[0m in \u001b[0;36m<module>\u001b[0;34m()\u001b[0m\n\u001b[1;32m     50\u001b[0m   \u001b[0;32mreturn\u001b[0m \u001b[0mdataset_names\u001b[0m\u001b[0;34m\u001b[0m\u001b[0m\n\u001b[1;32m     51\u001b[0m \u001b[0;34m\u001b[0m\u001b[0m\n\u001b[0;32m---> 52\u001b[0;31m \u001b[0mtrain_datasets\u001b[0m \u001b[0;34m=\u001b[0m \u001b[0mmaybe_pickle\u001b[0m\u001b[0;34m(\u001b[0m\u001b[0mtrain_folders\u001b[0m\u001b[0;34m,\u001b[0m \u001b[0;36m45000\u001b[0m\u001b[0;34m)\u001b[0m\u001b[0;34m\u001b[0m\u001b[0m\n\u001b[0m\u001b[1;32m     53\u001b[0m \u001b[0mtest_datasets\u001b[0m \u001b[0;34m=\u001b[0m \u001b[0mmaybe_pickle\u001b[0m\u001b[0;34m(\u001b[0m\u001b[0mtest_folders\u001b[0m\u001b[0;34m,\u001b[0m \u001b[0;36m1800\u001b[0m\u001b[0;34m)\u001b[0m\u001b[0;34m\u001b[0m\u001b[0m\n",
      "\u001b[0;31mNameError\u001b[0m: name 'train_folders' is not defined"
     ]
    }
   ],
   "source": [
    "image_size = 28  # Pixel width and height.\n",
    "pixel_depth = 255.0  # Number of levels per pixel.\n",
    "\n",
    "def load_letter(folder, min_num_images):\n",
    "  \"\"\"Load the data for a single letter label.\"\"\"\n",
    "  image_files = os.listdir(folder)\n",
    "  dataset = np.ndarray(shape=(len(image_files), image_size, image_size),\n",
    "                         dtype=np.float32)\n",
    "  print(folder)\n",
    "  num_images = 0\n",
    "  for image in image_files:\n",
    "    image_file = os.path.join(folder, image)\n",
    "    try:\n",
    "      image_data = (ndimage.imread(image_file).astype(float) - \n",
    "                    pixel_depth / 2) / pixel_depth\n",
    "      if image_data.shape != (image_size, image_size):\n",
    "        raise Exception('Unexpected image shape: %s' % str(image_data.shape))\n",
    "      dataset[num_images, :, :] = image_data\n",
    "      num_images = num_images + 1\n",
    "    except IOError as e:\n",
    "      print('Could not read:', image_file, ':', e, '- it\\'s ok, skipping.')\n",
    "    \n",
    "  dataset = dataset[0:num_images, :, :]\n",
    "  if num_images < min_num_images:\n",
    "    raise Exception('Many fewer images than expected: %d < %d' %\n",
    "                    (num_images, min_num_images))\n",
    "    \n",
    "  print('Full dataset tensor:', dataset.shape)\n",
    "  print('Mean:', np.mean(dataset))\n",
    "  print('Standard deviation:', np.std(dataset))\n",
    "  return dataset\n",
    "        \n",
    "def maybe_pickle(data_folders, min_num_images_per_class, force=False):\n",
    "  dataset_names = []\n",
    "  for folder in data_folders:\n",
    "    set_filename = folder + '.pickle'\n",
    "    dataset_names.append(set_filename)\n",
    "    if os.path.exists(set_filename) and not force:\n",
    "      # You may override by setting force=True.\n",
    "      print('%s already present - Skipping pickling.' % set_filename)\n",
    "    else:\n",
    "      print('Pickling %s.' % set_filename)\n",
    "      dataset = load_letter(folder, min_num_images_per_class)\n",
    "      try:\n",
    "        with open(set_filename, 'wb') as f:\n",
    "          pickle.dump(dataset, f, pickle.HIGHEST_PROTOCOL)\n",
    "      except Exception as e:\n",
    "        print('Unable to save data to', set_filename, ':', e)\n",
    "  \n",
    "  return dataset_names\n",
    "\n",
    "train_datasets = maybe_pickle(train_folders, 45000)\n",
    "test_datasets = maybe_pickle(test_folders, 1800)"
   ]
  },
  {
   "cell_type": "markdown",
   "metadata": {},
   "source": [
    "## Understanding the pickle saved"
   ]
  },
  {
   "cell_type": "code",
   "execution_count": 47,
   "metadata": {
    "collapsed": true
   },
   "outputs": [],
   "source": [
    "with open('/Users/jenkins/sleeba/deep_learning_udacity/not_mnist/notMNIST_small/A.pickle', 'rb') as handle:\n",
    "    b = pickle.load(handle)"
   ]
  },
  {
   "cell_type": "code",
   "execution_count": 48,
   "metadata": {},
   "outputs": [
    {
     "data": {
      "text/plain": [
       "(1872, 28, 28)"
      ]
     },
     "execution_count": 48,
     "metadata": {},
     "output_type": "execute_result"
    }
   ],
   "source": [
    "b.shape"
   ]
  },
  {
   "cell_type": "markdown",
   "metadata": {},
   "source": [
    "- This pickle contains 1872 elements\n",
    "- Each element is an image\n",
    "- Each image is 28 x 28 pixels\n",
    "- Each element of pickle is an numpy array with 28 rows and 28 elements in each"
   ]
  },
  {
   "cell_type": "code",
   "execution_count": 49,
   "metadata": {},
   "outputs": [
    {
     "data": {
      "text/plain": [
       "array([[-0.5       , -0.5       , -0.5       , -0.5       , -0.5       ,\n",
       "        -0.5       , -0.5       , -0.5       , -0.5       , -0.5       ,\n",
       "        -0.45294118, -0.45686275, -0.49607843, -0.5       , -0.46470588,\n",
       "        -0.48039216, -0.5       , -0.49607843, -0.5       , -0.5       ,\n",
       "        -0.5       , -0.5       , -0.5       , -0.5       , -0.5       ,\n",
       "        -0.5       , -0.5       , -0.5       ],\n",
       "       [-0.5       , -0.5       , -0.5       , -0.5       , -0.5       ,\n",
       "        -0.5       , -0.5       , -0.5       , -0.5       , -0.5       ,\n",
       "        -0.44117647, -0.40980393, -0.17843138, -0.04509804, -0.26078433,\n",
       "        -0.1509804 , -0.35882354, -0.5       , -0.49607843, -0.5       ,\n",
       "        -0.5       , -0.5       , -0.5       , -0.5       , -0.5       ,\n",
       "        -0.5       , -0.5       , -0.5       ],\n",
       "       [-0.5       , -0.5       , -0.5       , -0.5       , -0.5       ,\n",
       "        -0.5       , -0.5       , -0.5       , -0.49215686, -0.5       ,\n",
       "        -0.2254902 ,  0.11960784,  0.26862746,  0.5       ,  0.37058824,\n",
       "         0.38627452, -0.01372549, -0.37843138, -0.49215686, -0.5       ,\n",
       "        -0.5       , -0.5       , -0.5       , -0.5       , -0.5       ,\n",
       "        -0.5       , -0.5       , -0.5       ],\n",
       "       [-0.5       , -0.5       , -0.5       , -0.5       , -0.5       ,\n",
       "        -0.5       , -0.5       , -0.49215686, -0.5       , -0.32745099,\n",
       "         0.06862745,  0.30000001,  0.5       ,  0.48039216,  0.49215686,\n",
       "         0.5       ,  0.39411765,  0.04509804, -0.5       , -0.49607843,\n",
       "        -0.5       , -0.5       , -0.5       , -0.5       , -0.5       ,\n",
       "        -0.5       , -0.5       , -0.5       ],\n",
       "       [-0.5       , -0.5       , -0.5       , -0.5       , -0.5       ,\n",
       "        -0.5       , -0.5       , -0.49215686, -0.5       , -0.31960785,\n",
       "         0.03333334,  0.44509804,  0.49607843,  0.49607843,  0.49215686,\n",
       "         0.49607843,  0.46078432,  0.13137256, -0.3392157 , -0.48823529,\n",
       "        -0.5       , -0.5       , -0.5       , -0.5       , -0.5       ,\n",
       "        -0.5       , -0.5       , -0.5       ],\n",
       "       [-0.5       , -0.5       , -0.5       , -0.5       , -0.5       ,\n",
       "        -0.5       , -0.5       , -0.48039216, -0.5       , -0.17058824,\n",
       "         0.49607843,  0.49607843,  0.49607843,  0.5       ,  0.5       ,\n",
       "         0.5       ,  0.44117647,  0.4137255 ,  0.00588235, -0.5       ,\n",
       "        -0.5       , -0.49607843, -0.5       , -0.5       , -0.5       ,\n",
       "        -0.5       , -0.5       , -0.5       ],\n",
       "       [-0.5       , -0.5       , -0.5       , -0.5       , -0.5       ,\n",
       "        -0.5       , -0.49215686, -0.5       , -0.20196079,  0.20980392,\n",
       "         0.40588236,  0.48823529,  0.5       ,  0.5       ,  0.5       ,\n",
       "         0.49607843,  0.5       ,  0.45686275,  0.01764706, -0.37843138,\n",
       "        -0.5       , -0.49607843, -0.5       , -0.5       , -0.5       ,\n",
       "        -0.5       , -0.5       , -0.5       ],\n",
       "       [-0.5       , -0.5       , -0.5       , -0.5       , -0.5       ,\n",
       "        -0.5       , -0.48823529, -0.5       ,  0.00980392,  0.20588236,\n",
       "         0.45686275,  0.5       ,  0.48823529,  0.48823529,  0.5       ,\n",
       "         0.49215686,  0.5       ,  0.35882354,  0.36666667, -0.26862746,\n",
       "        -0.5       , -0.48823529, -0.5       , -0.5       , -0.5       ,\n",
       "        -0.5       , -0.5       , -0.5       ],\n",
       "       [-0.5       , -0.5       , -0.5       , -0.5       , -0.5       ,\n",
       "        -0.5       , -0.48431373, -0.45294118,  0.04117647,  0.36666667,\n",
       "         0.5       ,  0.49607843,  0.49215686,  0.47254902,  0.4254902 ,\n",
       "         0.49215686,  0.49607843,  0.5       ,  0.42156863, -0.06078431,\n",
       "        -0.5       , -0.49215686, -0.5       , -0.5       , -0.5       ,\n",
       "        -0.5       , -0.5       , -0.5       ],\n",
       "       [-0.5       , -0.5       , -0.5       , -0.5       , -0.5       ,\n",
       "        -0.49607843, -0.5       , -0.31568629,  0.23333333,  0.5       ,\n",
       "         0.49215686,  0.5       ,  0.45294118,  0.21764706,  0.23333333,\n",
       "         0.30000001,  0.5       ,  0.49215686,  0.49607843,  0.06862745,\n",
       "        -0.22941177, -0.5       , -0.49607843, -0.5       , -0.5       ,\n",
       "        -0.5       , -0.5       , -0.5       ],\n",
       "       [-0.5       , -0.5       , -0.5       , -0.49607843, -0.5       ,\n",
       "        -0.44901961, -0.37450981,  0.17058824,  0.31176472,  0.5       ,\n",
       "         0.49215686,  0.5       ,  0.2764706 , -0.43333334, -0.10392157,\n",
       "         0.22156863,  0.44901961,  0.5       ,  0.5       ,  0.37843138,\n",
       "         0.04901961, -0.34705883, -0.5       , -0.49215686, -0.5       ,\n",
       "        -0.5       , -0.5       , -0.5       ],\n",
       "       [-0.5       , -0.5       , -0.5       , -0.49607843, -0.5       ,\n",
       "        -0.36666667, -0.46078432,  0.04117647,  0.5       ,  0.48431373,\n",
       "         0.49607843,  0.49215686,  0.0254902 , -0.49215686, -0.23333333,\n",
       "         0.1627451 ,  0.46078432,  0.5       ,  0.5       ,  0.46862745,\n",
       "         0.10784314, -0.22941177, -0.5       , -0.49215686, -0.5       ,\n",
       "        -0.5       , -0.5       , -0.5       ],\n",
       "       [-0.5       , -0.5       , -0.5       , -0.5       , -0.48823529,\n",
       "        -0.43333334, -0.1509804 ,  0.4254902 ,  0.44901961,  0.5       ,\n",
       "         0.5       ,  0.33137256, -0.06078431, -0.42156863, -0.48431373,\n",
       "        -0.09607843,  0.24509804,  0.37450981,  0.5       ,  0.5       ,\n",
       "         0.37450981, -0.20196079, -0.44117647, -0.5       , -0.49607843,\n",
       "        -0.5       , -0.5       , -0.5       ],\n",
       "       [-0.5       , -0.5       , -0.5       , -0.5       , -0.48823529,\n",
       "        -0.41764706,  0.18627451,  0.48823529,  0.49215686,  0.49607843,\n",
       "         0.42941177,  0.0882353 , -0.28823531, -0.5       , -0.49215686,\n",
       "        -0.36274511,  0.1509804 ,  0.45686275,  0.49607843,  0.5       ,\n",
       "         0.41764706,  0.05294118, -0.26862746, -0.5       , -0.49607843,\n",
       "        -0.5       , -0.5       , -0.5       ],\n",
       "       [-0.5       , -0.5       , -0.5       , -0.49607843, -0.5       ,\n",
       "        -0.19803922,  0.40588236,  0.5       ,  0.5       ,  0.49607843,\n",
       "         0.36274511,  0.0372549 , -0.3509804 , -0.5       , -0.46862745,\n",
       "        -0.37450981, -0.10784314,  0.47254902,  0.49215686,  0.49215686,\n",
       "         0.5       ,  0.15490197, -0.37843138, -0.40196079, -0.48431373,\n",
       "        -0.5       , -0.5       , -0.5       ],\n",
       "       [-0.5       , -0.5       , -0.5       , -0.5       , -0.38627452,\n",
       "        -0.21372549,  0.24117647,  0.5       ,  0.5       ,  0.42941177,\n",
       "         0.21764706, -0.19019608, -0.5       , -0.49215686, -0.5       ,\n",
       "        -0.44509804, -0.17058824,  0.12352941,  0.5       ,  0.49215686,\n",
       "         0.48823529,  0.5       , -0.14705883, -0.44117647, -0.46470588,\n",
       "        -0.5       , -0.5       , -0.5       ],\n",
       "       [-0.5       , -0.5       , -0.49607843, -0.48823529, -0.33137256,\n",
       "         0.17450981,  0.46470588,  0.49607843,  0.5       ,  0.46470588,\n",
       "         0.29215688,  0.06078431, -0.11960784, -0.26078433, -0.04509804,\n",
       "        -0.17450981, -0.12745099,  0.38235295,  0.42941177,  0.49215686,\n",
       "         0.5       ,  0.47647059,  0.22941177, -0.3509804 , -0.48431373,\n",
       "        -0.5       , -0.5       , -0.5       ],\n",
       "       [-0.5       , -0.49607843, -0.5       , -0.42156863, -0.1627451 ,\n",
       "         0.35882354,  0.49607843,  0.5       ,  0.5       ,  0.47254902,\n",
       "         0.44117647,  0.30784315,  0.24117647,  0.42941177,  0.18627451,\n",
       "         0.28823531,  0.35882354,  0.4254902 ,  0.45294118,  0.49607843,\n",
       "         0.5       ,  0.48039216,  0.43333334, -0.21372549, -0.4254902 ,\n",
       "        -0.5       , -0.49607843, -0.5       ],\n",
       "       [-0.5       , -0.48823529, -0.48823529, -0.31568629,  0.10392157,\n",
       "         0.42156863,  0.5       ,  0.49607843,  0.49607843,  0.5       ,\n",
       "         0.5       ,  0.5       ,  0.5       ,  0.49607843,  0.46078432,\n",
       "         0.49215686,  0.47647059,  0.5       ,  0.5       ,  0.5       ,\n",
       "         0.5       ,  0.48823529,  0.5       ,  0.16666667, -0.36666667,\n",
       "        -0.48431373, -0.5       , -0.5       ],\n",
       "       [-0.5       , -0.48431373, -0.48431373, -0.07254902,  0.38627452,\n",
       "         0.39411765,  0.5       ,  0.49215686,  0.5       ,  0.49607843,\n",
       "         0.47647059,  0.48823529,  0.5       ,  0.49215686,  0.49607843,\n",
       "         0.49215686,  0.5       ,  0.5       ,  0.49215686,  0.49215686,\n",
       "         0.5       ,  0.48823529,  0.5       ,  0.33137256, -0.33137256,\n",
       "        -0.45294118, -0.5       , -0.5       ],\n",
       "       [-0.49607843, -0.5       , -0.43333334, -0.00196078,  0.47254902,\n",
       "         0.45686275,  0.5       ,  0.5       ,  0.48431373,  0.48039216,\n",
       "         0.48039216,  0.48431373,  0.4137255 ,  0.49215686,  0.40980393,\n",
       "         0.44901961,  0.38627452,  0.46862745,  0.48823529,  0.5       ,\n",
       "         0.49607843,  0.49607843,  0.5       ,  0.36666667, -0.16666667,\n",
       "        -0.4137255 , -0.5       , -0.49607843],\n",
       "       [-0.5       , -0.47254902, -0.14313726,  0.21764706,  0.47647059,\n",
       "         0.5       ,  0.49607843,  0.47647059,  0.06470589, -0.03333334,\n",
       "         0.26862746, -0.04509804, -0.17058824, -0.10392157, -0.17058824,\n",
       "         0.06470589,  0.1       , -0.19803922, -0.02156863,  0.31176472,\n",
       "         0.46470588,  0.45294118,  0.5       ,  0.49607843,  0.26078433,\n",
       "        -0.36274511, -0.5       , -0.49215686],\n",
       "       [-0.48431373, -0.33529413, -0.04901961,  0.33137256,  0.5       ,\n",
       "         0.48431373,  0.5       ,  0.13529412, -0.21372549, -0.36274511,\n",
       "        -0.5       , -0.46078432, -0.44509804, -0.5       , -0.43725491,\n",
       "        -0.47647059, -0.36666667, -0.4254902 , -0.47647059, -0.01764706,\n",
       "         0.23333333,  0.38235295,  0.5       ,  0.49215686,  0.31960785,\n",
       "         0.15490197, -0.5       , -0.49607843],\n",
       "       [-0.44901961, -0.30784315,  0.09607843,  0.48039216,  0.49607843,\n",
       "         0.5       ,  0.43333334,  0.00980392, -0.29215688, -0.47254902,\n",
       "        -0.5       , -0.49215686, -0.49607843, -0.48431373, -0.49607843,\n",
       "        -0.49607843, -0.5       , -0.49215686, -0.5       , -0.43725491,\n",
       "         0.02156863,  0.44509804,  0.5       ,  0.5       ,  0.4254902 ,\n",
       "         0.07254902, -0.11960784, -0.48431373],\n",
       "       [-0.39803922, -0.12745099,  0.3509804 ,  0.5       ,  0.48823529,\n",
       "         0.43725491,  0.19019608, -0.11176471, -0.43725491, -0.5       ,\n",
       "        -0.49607843, -0.5       , -0.5       , -0.5       , -0.5       ,\n",
       "        -0.5       , -0.49607843, -0.49607843, -0.48823529, -0.5       ,\n",
       "        -0.25686276,  0.39803922,  0.42156863,  0.49607843,  0.48039216,\n",
       "         0.36274511,  0.00588235, -0.5       ],\n",
       "       [-0.33137256,  0.21764706,  0.48431373,  0.5       ,  0.4254902 ,\n",
       "         0.44117647, -0.02156863, -0.40980393, -0.44509804, -0.5       ,\n",
       "        -0.5       , -0.5       , -0.5       , -0.5       , -0.5       ,\n",
       "        -0.5       , -0.5       , -0.5       , -0.49607843, -0.5       ,\n",
       "        -0.41764706,  0.1627451 ,  0.44901961,  0.45294118,  0.5       ,\n",
       "         0.5       , -0.00980392, -0.34313726],\n",
       "       [-0.33137256, -0.02941176, -0.00588235,  0.08431373,  0.33137256,\n",
       "         0.02156863, -0.40980393, -0.49215686, -0.49215686, -0.5       ,\n",
       "        -0.5       , -0.5       , -0.5       , -0.5       , -0.5       ,\n",
       "        -0.5       , -0.5       , -0.5       , -0.49607843, -0.5       ,\n",
       "        -0.35490197, -0.2372549 ,  0.19803922,  0.29607844,  0.01372549,\n",
       "         0.20196079, -0.17843138, -0.45294118],\n",
       "       [-0.48431373, -0.40196079, -0.37450981, -0.48039216, -0.45294118,\n",
       "        -0.46470588, -0.49607843, -0.49607843, -0.5       , -0.5       ,\n",
       "        -0.5       , -0.5       , -0.5       , -0.5       , -0.5       ,\n",
       "        -0.5       , -0.5       , -0.5       , -0.5       , -0.5       ,\n",
       "        -0.46470588, -0.4254902 , -0.48431373, -0.38235295, -0.45686275,\n",
       "        -0.46862745, -0.19803922, -0.44901961]], dtype=float32)"
      ]
     },
     "execution_count": 49,
     "metadata": {},
     "output_type": "execute_result"
    }
   ],
   "source": [
    "b[0]"
   ]
  },
  {
   "cell_type": "code",
   "execution_count": 50,
   "metadata": {},
   "outputs": [
    {
     "name": "stdout",
     "output_type": "stream",
     "text": [
      "Length of 0th row of zeroth pickle: 28\n",
      "Length of 1th row of zeroth pickle: 28\n",
      "Length of 2th row of zeroth pickle: 28\n",
      "Length of 3th row of zeroth pickle: 28\n",
      "Length of 4th row of zeroth pickle: 28\n",
      "Length of 5th row of zeroth pickle: 28\n",
      "Length of 6th row of zeroth pickle: 28\n",
      "Length of 7th row of zeroth pickle: 28\n",
      "Length of 8th row of zeroth pickle: 28\n",
      "Length of 9th row of zeroth pickle: 28\n",
      "Length of 10th row of zeroth pickle: 28\n",
      "Length of 11th row of zeroth pickle: 28\n",
      "Length of 12th row of zeroth pickle: 28\n",
      "Length of 13th row of zeroth pickle: 28\n",
      "Length of 14th row of zeroth pickle: 28\n",
      "Length of 15th row of zeroth pickle: 28\n",
      "Length of 16th row of zeroth pickle: 28\n",
      "Length of 17th row of zeroth pickle: 28\n",
      "Length of 18th row of zeroth pickle: 28\n",
      "Length of 19th row of zeroth pickle: 28\n",
      "Length of 20th row of zeroth pickle: 28\n",
      "Length of 21th row of zeroth pickle: 28\n",
      "Length of 22th row of zeroth pickle: 28\n",
      "Length of 23th row of zeroth pickle: 28\n",
      "Length of 24th row of zeroth pickle: 28\n",
      "Length of 25th row of zeroth pickle: 28\n",
      "Length of 26th row of zeroth pickle: 28\n",
      "Length of 27th row of zeroth pickle: 28\n",
      "No. of rows of zeroth element of pickle = 28\n"
     ]
    }
   ],
   "source": [
    "for i, k in enumerate(b):\n",
    "    if i <1:\n",
    "        count=0\n",
    "        for j in k:\n",
    "            print(\"Length of {}th row of zeroth pickle: {}\".format(count, len(j)))\n",
    "            count+=1\n",
    "    else:\n",
    "        print(\"No. of rows of zeroth element of pickle = {}\".format(count))\n",
    "        break\n"
   ]
  },
  {
   "cell_type": "markdown",
   "metadata": {},
   "source": [
    "## Showing that element as it is "
   ]
  },
  {
   "cell_type": "code",
   "execution_count": 51,
   "metadata": {},
   "outputs": [
    {
     "data": {
      "image/png": "[encoded data removed]",
      "text/plain": [
       "<matplotlib.figure.Figure at 0x11d2f3550>"
      ]
     },
     "metadata": {},
     "output_type": "display_data"
    }
   ],
   "source": [
    "plt.imshow(b[0],aspect=\"auto\")\n",
    "plt.show()"
   ]
  },
  {
   "cell_type": "markdown",
   "metadata": {},
   "source": [
    "## Checking the balance across the data\n",
    "\n",
    "- The shape of each pickle is almost alike which will help to maintain the balance between the classes"
   ]
  },
  {
   "cell_type": "code",
   "execution_count": 53,
   "metadata": {},
   "outputs": [
    {
     "name": "stdout",
     "output_type": "stream",
     "text": [
      "(1872, 28, 28)\n",
      "(1873, 28, 28)\n",
      "(1873, 28, 28)\n",
      "(1873, 28, 28)\n",
      "(1873, 28, 28)\n",
      "(1872, 28, 28)\n",
      "(1872, 28, 28)\n",
      "(1872, 28, 28)\n",
      "(1872, 28, 28)\n",
      "(1872, 28, 28)\n"
     ]
    }
   ],
   "source": [
    "file_name = [\"A\", \"B\", \"C\", \"D\", \"E\", \"F\", \"G\", \"H\", \"I\", \"J\"]\n",
    "for name in file_name:\n",
    "    with open('/Users/jenkins/sleeba/deep_learning_udacity/not_mnist/notMNIST_small/{}.pickle'.format(name), 'rb') as handle:\n",
    "        b = pickle.load(handle)\n",
    "    print(b.shape)"
   ]
  },
  {
   "cell_type": "markdown",
   "metadata": {},
   "source": [
    "## Merging and pruning the data as required"
   ]
  },
  {
   "cell_type": "code",
   "execution_count": 65,
   "metadata": {},
   "outputs": [
    {
     "name": "stdout",
     "output_type": "stream",
     "text": [
      "['/Users/jenkins/sleeba/deep_learning_udacity/not_mnist/notMNIST_large/A.pickle', '/Users/jenkins/sleeba/deep_learning_udacity/not_mnist/notMNIST_large/B.pickle', '/Users/jenkins/sleeba/deep_learning_udacity/not_mnist/notMNIST_large/C.pickle', '/Users/jenkins/sleeba/deep_learning_udacity/not_mnist/notMNIST_large/D.pickle', '/Users/jenkins/sleeba/deep_learning_udacity/not_mnist/notMNIST_large/E.pickle', '/Users/jenkins/sleeba/deep_learning_udacity/not_mnist/notMNIST_large/F.pickle', '/Users/jenkins/sleeba/deep_learning_udacity/not_mnist/notMNIST_large/G.pickle', '/Users/jenkins/sleeba/deep_learning_udacity/not_mnist/notMNIST_large/H.pickle', '/Users/jenkins/sleeba/deep_learning_udacity/not_mnist/notMNIST_large/I.pickle', '/Users/jenkins/sleeba/deep_learning_udacity/not_mnist/notMNIST_large/J.pickle']\n",
      "['/Users/jenkins/sleeba/deep_learning_udacity/not_mnist/notMNIST_small/A.pickle', '/Users/jenkins/sleeba/deep_learning_udacity/not_mnist/notMNIST_small/B.pickle', '/Users/jenkins/sleeba/deep_learning_udacity/not_mnist/notMNIST_small/C.pickle', '/Users/jenkins/sleeba/deep_learning_udacity/not_mnist/notMNIST_small/D.pickle', '/Users/jenkins/sleeba/deep_learning_udacity/not_mnist/notMNIST_small/E.pickle', '/Users/jenkins/sleeba/deep_learning_udacity/not_mnist/notMNIST_small/F.pickle', '/Users/jenkins/sleeba/deep_learning_udacity/not_mnist/notMNIST_small/G.pickle', '/Users/jenkins/sleeba/deep_learning_udacity/not_mnist/notMNIST_small/H.pickle', '/Users/jenkins/sleeba/deep_learning_udacity/not_mnist/notMNIST_small/I.pickle', '/Users/jenkins/sleeba/deep_learning_udacity/not_mnist/notMNIST_small/J.pickle']\n"
     ]
    }
   ],
   "source": [
    "from os import listdir\n",
    "from os.path import isfile, join\n",
    "\n",
    "image_size = 28  # Pixel width and height.\n",
    "pixel_depth = 255.0  # Number of levels per pixel.\n",
    "\n",
    "mypath_train = '/Users/jenkins/sleeba/deep_learning_udacity/not_mnist/notMNIST_large'\n",
    "mypath_test = '/Users/jenkins/sleeba/deep_learning_udacity/not_mnist/notMNIST_small'\n",
    "onlyfiles_train = [join(mypath_train, f) for f in listdir(mypath_train) if isfile(join(mypath_train, f))]\n",
    "onlyfiles_test = [join(mypath_test, f) for f in listdir(mypath_test) if isfile(join(mypath_test, f))]\n",
    "onlyfiles_train = onlyfiles_train[1:]\n",
    "onlyfiles_test = onlyfiles_test[1:]\n",
    "print(onlyfiles_train)\n",
    "print(onlyfiles_test)\n"
   ]
  },
  {
   "cell_type": "code",
   "execution_count": 66,
   "metadata": {},
   "outputs": [
    {
     "name": "stdout",
     "output_type": "stream",
     "text": [
      "Training: (200000, 28, 28) (200000,)\n",
      "Validation: (10000, 28, 28) (10000,)\n",
      "Testing: (10000, 28, 28) (10000,)\n"
     ]
    }
   ],
   "source": [
    "def make_arrays(nb_rows, img_size):\n",
    "    if nb_rows:\n",
    "        dataset = np.ndarray((nb_rows, img_size, img_size), dtype=np.float32)\n",
    "        labels = np.ndarray(nb_rows, dtype=np.int32)\n",
    "    else:\n",
    "        dataset, labels = None, None\n",
    "    return dataset, labels\n",
    "\n",
    "def merge_datasets(pickle_files, train_size, valid_size=0):\n",
    "    num_classes = len(pickle_files)\n",
    "    valid_dataset, valid_labels = make_arrays(valid_size, image_size)\n",
    "    train_dataset, train_labels = make_arrays(train_size, image_size)\n",
    "    vsize_per_class = valid_size // num_classes\n",
    "    tsize_per_class = train_size // num_classes\n",
    "    \n",
    "    start_v, start_t = 0, 0\n",
    "    end_v, end_t = vsize_per_class, tsize_per_class\n",
    "    end_l = vsize_per_class+tsize_per_class\n",
    "    for label, pickle_file in enumerate(pickle_files):\n",
    "        try:\n",
    "            with open(pickle_file, 'rb') as f:\n",
    "                letter_set = pickle.load(f)\n",
    "                # let's shuffle the letters to have random validation and training set\n",
    "                np.random.shuffle(letter_set)\n",
    "            if valid_dataset is not None:\n",
    "                valid_letter = letter_set[:vsize_per_class, :, :]\n",
    "                valid_dataset[start_v:end_v, :, :] = valid_letter\n",
    "                valid_labels[start_v:end_v] = label\n",
    "                start_v += vsize_per_class\n",
    "                end_v += vsize_per_class\n",
    "                    \n",
    "            train_letter = letter_set[vsize_per_class:end_l, :, :]\n",
    "            train_dataset[start_t:end_t, :, :] = train_letter\n",
    "            train_labels[start_t:end_t] = label\n",
    "            start_t += tsize_per_class\n",
    "            end_t += tsize_per_class\n",
    "        except Exception as e:\n",
    "            print('Unable to process data from', pickle_file, ':', e)\n",
    "            raise\n",
    "    return valid_dataset, valid_labels, train_dataset, train_labels\n",
    "            \n",
    "            \n",
    "train_size = 200000\n",
    "valid_size = 10000\n",
    "test_size = 10000\n",
    "\n",
    "\n",
    "train_datasets = onlyfiles_train\n",
    "test_datasets = onlyfiles_test\n",
    "valid_dataset, valid_labels, train_dataset, train_labels = merge_datasets(\n",
    "  train_datasets, train_size, valid_size)\n",
    "_, _, test_dataset, test_labels = merge_datasets(test_datasets, test_size)\n",
    "\n",
    "print('Training:', train_dataset.shape, train_labels.shape)\n",
    "print('Validation:', valid_dataset.shape, valid_labels.shape)\n",
    "print('Testing:', test_dataset.shape, test_labels.shape)\n"
   ]
  },
  {
   "cell_type": "markdown",
   "metadata": {},
   "source": [
    "## Randomize the trianing data to avoid crossing validation set and training set to be well distributed"
   ]
  },
  {
   "cell_type": "code",
   "execution_count": 67,
   "metadata": {
    "collapsed": true
   },
   "outputs": [],
   "source": [
    "def randomize(dataset, labels):\n",
    "  permutation = np.random.permutation(labels.shape[0])\n",
    "  shuffled_dataset = dataset[permutation,:,:]\n",
    "  shuffled_labels = labels[permutation]\n",
    "  return shuffled_dataset, shuffled_labels\n",
    "train_dataset, train_labels = randomize(train_dataset, train_labels)\n",
    "test_dataset, test_labels = randomize(test_dataset, test_labels)\n",
    "valid_dataset, valid_labels = randomize(valid_dataset, valid_labels)"
   ]
  },
  {
   "cell_type": "markdown",
   "metadata": {},
   "source": [
    "## Understanding the dataset just generated\n",
    "\n",
    "- Each row of `train_dataset` is the normalized pixel values of an image same as the above pickle\n",
    "- Each label is mapped to a number from `0 to 10` to letters `A to J` respectively. That number is given in `train_labels`. The row numbers of `train_dataset` and `train_labels`\n",
    "- Same is applicable for `test_dataset`, `test_labels` and `valid_dataset` , `valid_labels`"
   ]
  },
  {
   "cell_type": "code",
   "execution_count": 73,
   "metadata": {},
   "outputs": [
    {
     "data": {
      "text/plain": [
       "(200000, 28, 28)"
      ]
     },
     "execution_count": 73,
     "metadata": {},
     "output_type": "execute_result"
    }
   ],
   "source": [
    "train_dataset.shape"
   ]
  },
  {
   "cell_type": "code",
   "execution_count": 70,
   "metadata": {},
   "outputs": [
    {
     "data": {
      "text/plain": [
       "array([[-0.5       , -0.5       , -0.5       , -0.5       , -0.5       ,\n",
       "        -0.5       , -0.5       , -0.5       , -0.5       , -0.49607843,\n",
       "        -0.5       , -0.39019608,  0.43725491,  0.5       ,  0.49607843,\n",
       "         0.5       ,  0.5       ,  0.5       ,  0.5       ,  0.5       ,\n",
       "         0.5       ,  0.5       ,  0.49215686,  0.5       ,  0.5       ,\n",
       "         0.49215686,  0.5       ,  0.20196079],\n",
       "       [-0.5       , -0.5       , -0.5       , -0.5       , -0.5       ,\n",
       "        -0.5       , -0.5       , -0.5       , -0.5       , -0.49607843,\n",
       "        -0.5       , -0.43333334, -0.24901961, -0.20980392, -0.06862745,\n",
       "         0.34705883,  0.5       ,  0.49607843,  0.5       ,  0.5       ,\n",
       "         0.5       ,  0.49215686,  0.5       ,  0.35882354,  0.00588235,\n",
       "        -0.17450981, -0.21372549, -0.38627452],\n",
       "       [-0.5       , -0.5       , -0.5       , -0.5       , -0.5       ,\n",
       "        -0.5       , -0.5       , -0.5       , -0.5       , -0.5       ,\n",
       "        -0.5       , -0.5       , -0.5       , -0.48431373, -0.5       ,\n",
       "         0.01764706,  0.5       ,  0.48823529,  0.5       ,  0.5       ,\n",
       "         0.49215686,  0.5       ,  0.17450981, -0.46078432, -0.5       ,\n",
       "        -0.49607843, -0.5       , -0.5       ],\n",
       "       [-0.5       , -0.5       , -0.5       , -0.5       , -0.5       ,\n",
       "        -0.5       , -0.5       , -0.5       , -0.5       , -0.5       ,\n",
       "        -0.5       , -0.5       , -0.48823529, -0.48039216, -0.5       ,\n",
       "         0.18235295,  0.5       ,  0.48823529,  0.5       ,  0.49215686,\n",
       "         0.5       ,  0.32745099, -0.44509804, -0.5       , -0.48431373,\n",
       "        -0.48823529, -0.48823529, -0.49607843],\n",
       "       [-0.5       , -0.5       , -0.5       , -0.5       , -0.5       ,\n",
       "        -0.5       , -0.5       , -0.5       , -0.5       , -0.5       ,\n",
       "        -0.5       , -0.5       , -0.49215686, -0.5       , -0.38235295,\n",
       "         0.42941177,  0.5       ,  0.49607843,  0.5       ,  0.49215686,\n",
       "         0.5       , -0.13921569, -0.5       , -0.48431373, -0.5       ,\n",
       "        -0.5       , -0.5       , -0.5       ],\n",
       "       [-0.5       , -0.5       , -0.5       , -0.5       , -0.5       ,\n",
       "        -0.5       , -0.5       , -0.5       , -0.5       , -0.5       ,\n",
       "        -0.5       , -0.5       , -0.48823529, -0.5       , -0.05686275,\n",
       "         0.5       ,  0.48823529,  0.5       ,  0.49215686,  0.5       ,\n",
       "         0.35490197, -0.46862745, -0.5       , -0.49607843, -0.5       ,\n",
       "        -0.5       , -0.5       , -0.5       ],\n",
       "       [-0.5       , -0.5       , -0.5       , -0.5       , -0.5       ,\n",
       "        -0.5       , -0.5       , -0.5       , -0.5       , -0.5       ,\n",
       "        -0.5       , -0.49607843, -0.5       , -0.48039216,  0.31176472,\n",
       "         0.5       ,  0.49215686,  0.5       ,  0.48431373,  0.5       ,\n",
       "        -0.01764706, -0.5       , -0.48823529, -0.5       , -0.5       ,\n",
       "        -0.5       , -0.5       , -0.5       ],\n",
       "       [-0.5       , -0.5       , -0.5       , -0.5       , -0.5       ,\n",
       "        -0.5       , -0.5       , -0.5       , -0.5       , -0.5       ,\n",
       "        -0.5       , -0.48823529, -0.5       , -0.21372549,  0.5       ,\n",
       "         0.49215686,  0.5       ,  0.49607843,  0.5       ,  0.43725491,\n",
       "        -0.34705883, -0.5       , -0.49215686, -0.5       , -0.5       ,\n",
       "        -0.5       , -0.5       , -0.5       ],\n",
       "       [-0.5       , -0.5       , -0.5       , -0.5       , -0.5       ,\n",
       "        -0.5       , -0.5       , -0.5       , -0.5       , -0.5       ,\n",
       "        -0.5       , -0.49215686, -0.5       ,  0.17450981,  0.5       ,\n",
       "         0.48823529,  0.5       ,  0.48823529,  0.5       ,  0.14705883,\n",
       "        -0.5       , -0.48823529, -0.5       , -0.5       , -0.5       ,\n",
       "        -0.5       , -0.5       , -0.5       ],\n",
       "       [-0.5       , -0.5       , -0.5       , -0.5       , -0.5       ,\n",
       "        -0.5       , -0.5       , -0.5       , -0.5       , -0.5       ,\n",
       "        -0.49215686, -0.5       , -0.33137256,  0.44901961,  0.5       ,\n",
       "         0.49607843,  0.5       ,  0.49215686,  0.5       , -0.24117647,\n",
       "        -0.5       , -0.48823529, -0.5       , -0.5       , -0.5       ,\n",
       "        -0.5       , -0.5       , -0.5       ],\n",
       "       [-0.5       , -0.5       , -0.5       , -0.5       , -0.5       ,\n",
       "        -0.5       , -0.5       , -0.5       , -0.5       , -0.5       ,\n",
       "        -0.48823529, -0.5       ,  0.01372549,  0.5       ,  0.48431373,\n",
       "         0.5       ,  0.48823529,  0.5       ,  0.28039217, -0.48823529,\n",
       "        -0.5       , -0.49607843, -0.5       , -0.5       , -0.5       ,\n",
       "        -0.5       , -0.5       , -0.5       ],\n",
       "       [-0.5       , -0.5       , -0.5       , -0.5       , -0.5       ,\n",
       "        -0.5       , -0.5       , -0.5       , -0.5       , -0.49607843,\n",
       "        -0.5       , -0.45686275,  0.37843138,  0.5       ,  0.49215686,\n",
       "         0.5       ,  0.49215686,  0.5       , -0.08039216, -0.5       ,\n",
       "        -0.48823529, -0.5       , -0.5       , -0.5       , -0.5       ,\n",
       "        -0.5       , -0.5       , -0.5       ],\n",
       "       [-0.5       , -0.5       , -0.5       , -0.5       , -0.5       ,\n",
       "        -0.5       , -0.5       , -0.5       , -0.5       , -0.48431373,\n",
       "        -0.5       , -0.13529412,  0.5       ,  0.49215686,  0.5       ,\n",
       "         0.49607843,  0.5       ,  0.40588236, -0.41764706, -0.5       ,\n",
       "        -0.49607843, -0.5       , -0.5       , -0.5       , -0.5       ,\n",
       "        -0.5       , -0.5       , -0.5       ],\n",
       "       [-0.5       , -0.5       , -0.5       , -0.5       , -0.5       ,\n",
       "        -0.5       , -0.5       , -0.5       , -0.5       , -0.5       ,\n",
       "        -0.5       ,  0.23333333,  0.5       ,  0.48823529,  0.5       ,\n",
       "         0.48431373,  0.5       ,  0.07254902, -0.5       , -0.48823529,\n",
       "        -0.5       , -0.5       , -0.5       , -0.5       , -0.5       ,\n",
       "        -0.5       , -0.5       , -0.5       ],\n",
       "       [-0.5       , -0.5       , -0.5       , -0.5       , -0.5       ,\n",
       "        -0.5       , -0.5       , -0.5       , -0.49215686, -0.5       ,\n",
       "        -0.28039217,  0.49215686,  0.5       ,  0.5       ,  0.5       ,\n",
       "         0.5       ,  0.48823529, -0.30392158, -0.5       , -0.49215686,\n",
       "        -0.5       , -0.5       , -0.5       , -0.5       , -0.5       ,\n",
       "        -0.5       , -0.5       , -0.5       ],\n",
       "       [-0.5       , -0.5       , -0.5       , -0.5       , -0.5       ,\n",
       "        -0.5       , -0.5       , -0.5       , -0.48823529, -0.5       ,\n",
       "         0.09215686,  0.5       ,  0.48431373,  0.5       ,  0.48823529,\n",
       "         0.5       ,  0.21372549, -0.5       , -0.5       , -0.5       ,\n",
       "        -0.5       , -0.5       , -0.5       , -0.5       , -0.5       ,\n",
       "        -0.5       , -0.5       , -0.5       ],\n",
       "       [-0.5       , -0.5       , -0.5       , -0.5       , -0.5       ,\n",
       "        -0.5       , -0.5       , -0.49607843, -0.5       , -0.40588236,\n",
       "         0.42156863,  0.5       ,  0.49607843,  0.5       ,  0.49215686,\n",
       "         0.5       , -0.15490197, -0.5       , -0.48823529, -0.5       ,\n",
       "        -0.5       , -0.5       , -0.5       , -0.5       , -0.5       ,\n",
       "        -0.5       , -0.5       , -0.5       ],\n",
       "       [-0.5       , -0.5       , -0.5       , -0.5       , -0.5       ,\n",
       "        -0.5       , -0.5       , -0.48823529, -0.5       , -0.06078431,\n",
       "         0.5       ,  0.49215686,  0.5       ,  0.49215686,  0.5       ,\n",
       "         0.36274511, -0.46470588, -0.5       , -0.49607843, -0.5       ,\n",
       "        -0.5       , -0.5       , -0.5       , -0.5       , -0.5       ,\n",
       "        -0.5       , -0.5       , -0.5       ],\n",
       "       [-0.5       , -0.5       , -0.5       , -0.5       , -0.5       ,\n",
       "        -0.5       , -0.49607843, -0.5       , -0.47647059,  0.29607844,\n",
       "         0.5       ,  0.49215686,  0.5       ,  0.48431373,  0.5       ,\n",
       "        -0.00980392, -0.5       , -0.48823529, -0.5       , -0.5       ,\n",
       "        -0.5       , -0.5       , -0.5       , -0.5       , -0.5       ,\n",
       "        -0.5       , -0.5       , -0.5       ],\n",
       "       [-0.5       , -0.5       , -0.5       , -0.5       , -0.5       ,\n",
       "        -0.5       , -0.48823529, -0.5       , -0.22156863,  0.5       ,\n",
       "         0.49215686,  0.5       ,  0.49607843,  0.5       ,  0.43725491,\n",
       "        -0.34705883, -0.5       , -0.49215686, -0.5       , -0.5       ,\n",
       "        -0.5       , -0.5       , -0.5       , -0.5       , -0.5       ,\n",
       "        -0.5       , -0.5       , -0.5       ],\n",
       "       [-0.5       , -0.5       , -0.5       , -0.5       , -0.5       ,\n",
       "        -0.5       , -0.48823529, -0.5       ,  0.17058824,  0.5       ,\n",
       "         0.48823529,  0.5       ,  0.48823529,  0.5       ,  0.15490197,\n",
       "        -0.5       , -0.49215686, -0.5       , -0.5       , -0.5       ,\n",
       "        -0.5       , -0.5       , -0.5       , -0.5       , -0.5       ,\n",
       "        -0.5       , -0.5       , -0.5       ],\n",
       "       [-0.5       , -0.5       , -0.5       , -0.5       , -0.5       ,\n",
       "        -0.49215686, -0.5       , -0.33137256,  0.44901961,  0.5       ,\n",
       "         0.49607843,  0.5       ,  0.49215686,  0.5       , -0.23333333,\n",
       "        -0.5       , -0.48823529, -0.5       , -0.5       , -0.5       ,\n",
       "        -0.5       , -0.5       , -0.5       , -0.5       , -0.5       ,\n",
       "        -0.5       , -0.5       , -0.5       ],\n",
       "       [-0.5       , -0.5       , -0.5       , -0.5       , -0.5       ,\n",
       "        -0.48823529, -0.5       ,  0.00588235,  0.5       ,  0.48823529,\n",
       "         0.5       ,  0.48823529,  0.5       ,  0.29607844, -0.49215686,\n",
       "        -0.5       , -0.49607843, -0.5       , -0.5       , -0.5       ,\n",
       "        -0.5       , -0.5       , -0.5       , -0.5       , -0.5       ,\n",
       "        -0.5       , -0.5       , -0.5       ],\n",
       "       [-0.5       , -0.5       , -0.5       , -0.5       , -0.49607843,\n",
       "        -0.5       , -0.43333334,  0.38235295,  0.5       ,  0.49215686,\n",
       "         0.5       ,  0.48823529,  0.5       , -0.07647059, -0.5       ,\n",
       "        -0.48823529, -0.5       , -0.5       , -0.5       , -0.5       ,\n",
       "        -0.5       , -0.5       , -0.5       , -0.5       , -0.5       ,\n",
       "        -0.5       , -0.5       , -0.5       ],\n",
       "       [-0.5       , -0.48823529, -0.48823529, -0.48823529, -0.47647059,\n",
       "        -0.5       , -0.02941176,  0.5       ,  0.48823529,  0.5       ,\n",
       "         0.49607843,  0.5       ,  0.44901961, -0.36666667, -0.5       ,\n",
       "        -0.48039216, -0.49215686, -0.5       , -0.5       , -0.5       ,\n",
       "        -0.5       , -0.5       , -0.5       , -0.5       , -0.5       ,\n",
       "        -0.5       , -0.5       , -0.5       ],\n",
       "       [-0.5       , -0.5       , -0.5       , -0.49215686, -0.5       ,\n",
       "        -0.25686276,  0.46078432,  0.5       ,  0.49607843,  0.5       ,\n",
       "         0.48823529,  0.5       ,  0.26078433, -0.49607843, -0.5       ,\n",
       "        -0.49607843, -0.5       , -0.5       , -0.5       , -0.5       ,\n",
       "        -0.5       , -0.5       , -0.5       , -0.5       , -0.5       ,\n",
       "        -0.5       , -0.5       , -0.5       ],\n",
       "       [-0.48431373, -0.28039217, -0.2372549 , -0.19019608,  0.06862745,\n",
       "         0.44509804,  0.5       ,  0.49607843,  0.5       ,  0.5       ,\n",
       "         0.49607843,  0.5       ,  0.45294118,  0.04509804, -0.18627451,\n",
       "        -0.22156863, -0.33529413, -0.5       , -0.5       , -0.5       ,\n",
       "        -0.5       , -0.5       , -0.5       , -0.5       , -0.5       ,\n",
       "        -0.5       , -0.5       , -0.5       ],\n",
       "       [-0.19411765,  0.49607843,  0.5       ,  0.49607843,  0.5       ,\n",
       "         0.49215686,  0.49607843,  0.5       ,  0.5       ,  0.5       ,\n",
       "         0.5       ,  0.5       ,  0.5       ,  0.5       ,  0.48823529,\n",
       "         0.5       , -0.01764706, -0.5       , -0.48823529, -0.5       ,\n",
       "        -0.5       , -0.5       , -0.5       , -0.5       , -0.5       ,\n",
       "        -0.5       , -0.5       , -0.5       ]], dtype=float32)"
      ]
     },
     "execution_count": 70,
     "metadata": {},
     "output_type": "execute_result"
    }
   ],
   "source": [
    "train_dataset[0]"
   ]
  },
  {
   "cell_type": "code",
   "execution_count": 71,
   "metadata": {},
   "outputs": [
    {
     "data": {
      "text/plain": [
       "8"
      ]
     },
     "execution_count": 71,
     "metadata": {},
     "output_type": "execute_result"
    }
   ],
   "source": [
    "train_labels[0]"
   ]
  },
  {
   "cell_type": "code",
   "execution_count": 72,
   "metadata": {},
   "outputs": [
    {
     "data": {
      "image/png": "[encoded data removed]",
      "text/plain": [
       "<matplotlib.figure.Figure at 0x11e1842e8>"
      ]
     },
     "metadata": {},
     "output_type": "display_data"
    }
   ],
   "source": [
    "plt.imshow(train_dataset[0],aspect=\"auto\")\n",
    "plt.show()"
   ]
  },
  {
   "cell_type": "markdown",
   "metadata": {},
   "source": [
    "## Saving the final data as a pickle"
   ]
  },
  {
   "cell_type": "code",
   "execution_count": 74,
   "metadata": {
    "collapsed": true
   },
   "outputs": [],
   "source": [
    "data_root = '/Users/jenkins/sleeba/deep_learning_udacity'\n",
    "\n",
    "pickle_file = os.path.join(data_root, 'notMNIST.pickle')\n",
    "\n",
    "try:\n",
    "  f = open(pickle_file, 'wb')\n",
    "  save = {\n",
    "    'train_dataset': train_dataset,\n",
    "    'train_labels': train_labels,\n",
    "    'valid_dataset': valid_dataset,\n",
    "    'valid_labels': valid_labels,\n",
    "    'test_dataset': test_dataset,\n",
    "    'test_labels': test_labels,\n",
    "    }\n",
    "  pickle.dump(save, f, pickle.HIGHEST_PROTOCOL)\n",
    "  f.close()\n",
    "except Exception as e:\n",
    "  print('Unable to save data to', pickle_file, ':', e)\n",
    "  raise"
   ]
  },
  {
   "cell_type": "code",
   "execution_count": 75,
   "metadata": {},
   "outputs": [
    {
     "name": "stdout",
     "output_type": "stream",
     "text": [
      "Compressed pickle size: 690800506\n"
     ]
    }
   ],
   "source": [
    "statinfo = os.stat(pickle_file)\n",
    "print('Compressed pickle size:', statinfo.st_size)"
   ]
  },
  {
   "cell_type": "markdown",
   "metadata": {},
   "source": [
    "## Understanding the final pickle file"
   ]
  },
  {
   "cell_type": "code",
   "execution_count": 3,
   "metadata": {
    "collapsed": true
   },
   "outputs": [],
   "source": [
    "with open('/Users/jenkins/sleeba/deep_learning_udacity/not_mnist/notMNIST.pickle', 'rb') as handle:\n",
    "    b = pickle.load(handle)"
   ]
  },
  {
   "cell_type": "code",
   "execution_count": 11,
   "metadata": {},
   "outputs": [
    {
     "name": "stdout",
     "output_type": "stream",
     "text": [
      "8\n"
     ]
    },
    {
     "data": {
      "image/png": "[encoded data removed]",
      "text/plain": [
       "<matplotlib.figure.Figure at 0x116f9fcc0>"
      ]
     },
     "metadata": {},
     "output_type": "display_data"
    }
   ],
   "source": [
    "# print(b[\"train_dataset\"][0])\n",
    "print(b[\"train_labels\"][0])\n",
    "plt.imshow(b[\"train_dataset\"][0],aspect=\"auto\")\n",
    "plt.show()"
   ]
  },
  {
   "cell_type": "markdown",
   "metadata": {},
   "source": [
    "## Checking the overlap in the different data sets"
   ]
  },
  {
   "cell_type": "code",
   "execution_count": 12,
   "metadata": {},
   "outputs": [
    {
     "data": {
      "text/plain": [
       "256"
      ]
     },
     "execution_count": 12,
     "metadata": {},
     "output_type": "execute_result"
    }
   ],
   "source": [
    "len(np.unique(b[\"train_dataset\"]))"
   ]
  },
  {
   "cell_type": "markdown",
   "metadata": {},
   "source": [
    "### Checking common elements in `train_dataset` and `test_dataset`"
   ]
  },
  {
   "cell_type": "code",
   "execution_count": 15,
   "metadata": {},
   "outputs": [
    {
     "data": {
      "text/plain": [
       "(200000, 28, 28)"
      ]
     },
     "execution_count": 15,
     "metadata": {},
     "output_type": "execute_result"
    }
   ],
   "source": [
    "b['train_dataset'].shape"
   ]
  },
  {
   "cell_type": "markdown",
   "metadata": {},
   "source": [
    "## Since the dataset is too big, randomly selecting 1000 images and looking for overlapping in examples"
   ]
  },
  {
   "cell_type": "code",
   "execution_count": 25,
   "metadata": {
    "collapsed": true
   },
   "outputs": [],
   "source": [
    "sample_train = b['train_dataset'][np.random.randint(b['train_dataset'].shape[0], size=1000), :]\n",
    "sample_test = b['test_dataset'][np.random.randint(b['test_dataset'].shape[0], size=1000), :]"
   ]
  },
  {
   "cell_type": "code",
   "execution_count": 26,
   "metadata": {},
   "outputs": [
    {
     "name": "stdout",
     "output_type": "stream",
     "text": [
      "10\n"
     ]
    }
   ],
   "source": [
    "count = 0\n",
    "for el in sample_train:\n",
    "    for el2 in sample_test:\n",
    "        if (el==el2).all():\n",
    "            count+=1\n",
    "            break\n",
    "print(count)"
   ]
  },
  {
   "cell_type": "markdown",
   "metadata": {},
   "source": [
    "`Here there is 10 samples with are exactly identical in training and testing datasets. This can be good or bad according to the application. If the letters are recurring in in your test case, then we don't need to remove the duplicates.`"
   ]
  },
  {
   "cell_type": "code",
   "execution_count": 28,
   "metadata": {
    "collapsed": true
   },
   "outputs": [],
   "source": [
    "sample_train = b['train_dataset'][np.random.randint(b['train_dataset'].shape[0], size=1000), :]\n",
    "sample_test = b['test_dataset'][np.random.randint(b['test_dataset'].shape[0], size=1000), :]"
   ]
  },
  {
   "cell_type": "code",
   "execution_count": 29,
   "metadata": {},
   "outputs": [
    {
     "name": "stdout",
     "output_type": "stream",
     "text": [
      "5\n"
     ]
    }
   ],
   "source": [
    "count = 0\n",
    "for el in sample_train:\n",
    "    for el2 in sample_test:\n",
    "        if np.allclose(el,el2):\n",
    "            count+=1\n",
    "            break\n",
    "print(count)"
   ]
  },
  {
   "cell_type": "markdown",
   "metadata": {},
   "source": [
    "`Here there is 5 samples with are almost identical in training and testing datasets. This can be good or bad according to the application. If the letters are recurring in in your test case, then we don't need to remove the duplicates.`"
   ]
  },
  {
   "cell_type": "markdown",
   "metadata": {
    "collapsed": true
   },
   "source": [
    "## Training a sample data set of 5000 using Logistic Regression model"
   ]
  },
  {
   "cell_type": "code",
   "execution_count": 31,
   "metadata": {},
   "outputs": [],
   "source": [
    "from sklearn.linear_model import LogisticRegression\n",
    "from sklearn.cross_validation import train_test_split\n",
    "from sklearn import metrics\n",
    "from sklearn.model_selection import cross_val_score"
   ]
  },
  {
   "cell_type": "code",
   "execution_count": 33,
   "metadata": {
    "collapsed": true
   },
   "outputs": [],
   "source": [
    "idx = np.random.choice(np.arange(len(b['train_dataset'])), 5000, replace=False)\n",
    "x_sample = b['train_dataset'][idx]\n",
    "y_sample = b['train_labels'][idx]"
   ]
  },
  {
   "cell_type": "code",
   "execution_count": 46,
   "metadata": {},
   "outputs": [
    {
     "data": {
      "text/plain": [
       "array([-0.5       , -0.5       , -0.5       , -0.5       , -0.5       ,\n",
       "       -0.5       , -0.5       , -0.36666667,  0.26078433,  0.47647059,\n",
       "        0.49607843,  0.5       ,  0.5       ,  0.5       ,  0.5       ,\n",
       "        0.5       ,  0.5       ,  0.5       ,  0.5       ,  0.5       ,\n",
       "        0.5       ,  0.5       ,  0.5       ,  0.5       ,  0.5       ,\n",
       "        0.49607843,  0.44509804,  0.19411765], dtype=float32)"
      ]
     },
     "execution_count": 46,
     "metadata": {},
     "output_type": "execute_result"
    }
   ],
   "source": [
    "x_sample[0][0]"
   ]
  },
  {
   "cell_type": "code",
   "execution_count": 62,
   "metadata": {},
   "outputs": [],
   "source": [
    "train = x_sample.reshape((len(x_sample), -1))\n",
    "label = y_sample"
   ]
  },
  {
   "cell_type": "code",
   "execution_count": 63,
   "metadata": {},
   "outputs": [
    {
     "data": {
      "text/plain": [
       "LogisticRegression(C=1.0, class_weight=None, dual=False, fit_intercept=True,\n",
       "          intercept_scaling=1, max_iter=100, multi_class='ovr', n_jobs=1,\n",
       "          penalty='l2', random_state=None, solver='liblinear', tol=0.0001,\n",
       "          verbose=0, warm_start=False)"
      ]
     },
     "execution_count": 63,
     "metadata": {},
     "output_type": "execute_result"
    }
   ],
   "source": [
    "X_train, X_test, y_train, y_test = train_test_split(train, label, test_size=0.25, random_state=10)\n",
    "model = LogisticRegression(verbose=10, n_jobs=-1, max_iter=200, )\n",
    "model.fit(X_train, y_train)"
   ]
  },
  {
   "cell_type": "code",
   "execution_count": 64,
   "metadata": {
    "collapsed": true
   },
   "outputs": [],
   "source": [
    "predicted = model.predict(X_test)"
   ]
  },
  {
   "cell_type": "code",
   "execution_count": 65,
   "metadata": {},
   "outputs": [
    {
     "name": "stdout",
     "output_type": "stream",
     "text": [
      "0.792\n"
     ]
    }
   ],
   "source": [
    "print (metrics.accuracy_score(y_test, predicted))"
   ]
  },
  {
   "cell_type": "markdown",
   "metadata": {},
   "source": [
    "# The Accuracy of the model is 79.2 % considering the random 5000 samples"
   ]
  }
 ],
 "metadata": {
  "kernelspec": {
   "display_name": "Python 3",
   "language": "python",
   "name": "python3"
  },
  "language_info": {
   "codemirror_mode": {
    "name": "ipython",
    "version": 3
   },
   "file_extension": ".py",
   "mimetype": "text/x-python",
   "name": "python",
   "nbconvert_exporter": "python",
   "pygments_lexer": "ipython3",
   "version": "3.6.1"
  }
 },
 "nbformat": 4,
 "nbformat_minor": 2
}
