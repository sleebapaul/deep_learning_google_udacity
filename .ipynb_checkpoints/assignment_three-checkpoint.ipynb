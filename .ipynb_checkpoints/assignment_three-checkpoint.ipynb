{
 "cells": [
  {
   "cell_type": "markdown",
   "metadata": {},
   "source": [
    "# Regularization"
   ]
  },
  {
   "cell_type": "code",
   "execution_count": 1,
   "metadata": {
    "collapsed": true
   },
   "outputs": [],
   "source": [
    "# These are all the modules we'll be using later. Make sure you can import them\n",
    "# before proceeding further.\n",
    "from __future__ import print_function\n",
    "import numpy as np\n",
    "import tensorflow as tf\n",
    "from six.moves import cPickle as pickle"
   ]
  },
  {
   "cell_type": "markdown",
   "metadata": {},
   "source": [
    "## Loading the pickle file"
   ]
  },
  {
   "cell_type": "code",
   "execution_count": 2,
   "metadata": {},
   "outputs": [
    {
     "name": "stdout",
     "output_type": "stream",
     "text": [
      "Training set (200000, 28, 28) (200000,)\n",
      "Validation set (10000, 28, 28) (10000,)\n",
      "Test set (10000, 28, 28) (10000,)\n"
     ]
    }
   ],
   "source": [
    "pickle_file = '/Users/jenkins/sleeba/deep_learning_udacity/not_mnist/notMNIST.pickle'\n",
    "\n",
    "with open(pickle_file, 'rb') as f:\n",
    "  save = pickle.load(f)\n",
    "  train_dataset = save['train_dataset']\n",
    "  train_labels = save['train_labels']\n",
    "  valid_dataset = save['valid_dataset']\n",
    "  valid_labels = save['valid_labels']\n",
    "  test_dataset = save['test_dataset']\n",
    "  test_labels = save['test_labels']\n",
    "  del save  # hint to help gc free up memory\n",
    "  print('Training set', train_dataset.shape, train_labels.shape)\n",
    "  print('Validation set', valid_dataset.shape, valid_labels.shape)\n",
    "  print('Test set', test_dataset.shape, test_labels.shape)"
   ]
  },
  {
   "cell_type": "markdown",
   "metadata": {},
   "source": [
    "## Applying L2 regularization in Logistic Regression using `sklearn`"
   ]
  },
  {
   "cell_type": "code",
   "execution_count": 18,
   "metadata": {
    "collapsed": true
   },
   "outputs": [],
   "source": [
    "from sklearn.linear_model import LogisticRegression\n",
    "from sklearn import metrics"
   ]
  },
  {
   "cell_type": "markdown",
   "metadata": {},
   "source": [
    "**One hot encoded labels are not supported by `sklearn` Logistic Regression model. So the data needs to be modelled as single column labels spanning from 0-9. Train dataset is needed to flattened.**"
   ]
  },
  {
   "cell_type": "code",
   "execution_count": 4,
   "metadata": {
    "collapsed": true
   },
   "outputs": [],
   "source": [
    "image_size = 28\n",
    "num_labels = 10\n",
    "def reformat(dataset):\n",
    "    dataset = dataset.reshape((-1, image_size * image_size)).astype(np.float32)\n",
    "    return dataset\n",
    "train_dataset_log = reformat(train_dataset)\n",
    "train_labels_log = train_labels\n",
    "valid_dataset_log = reformat(valid_dataset)\n",
    "valid_labels_log = valid_labels\n",
    "test_dataset_log = reformat(test_dataset)\n",
    "test_labels_log  = test_labels"
   ]
  },
  {
   "cell_type": "code",
   "execution_count": 5,
   "metadata": {},
   "outputs": [
    {
     "name": "stdout",
     "output_type": "stream",
     "text": [
      "Training data dimension:  (200000, 784)\n",
      "Training data labels dimension:  (200000,)\n",
      "Validation data dimension:  (10000, 784)\n",
      "Validation data labels dimension:  (10000,)\n",
      "Testing data dimension:  (10000, 784)\n",
      "Testing data labels dimension:  (10000,)\n"
     ]
    }
   ],
   "source": [
    "print(\"Training data dimension: \",train_dataset_log.shape)\n",
    "print(\"Training data labels dimension: \", train_labels_log.shape)\n",
    "print(\"Validation data dimension: \",valid_dataset_log.shape)\n",
    "print(\"Validation data labels dimension: \", valid_labels_log.shape)\n",
    "print(\"Testing data dimension: \",test_dataset_log.shape)\n",
    "print(\"Testing data labels dimension: \", test_labels_log.shape)"
   ]
  },
  {
   "cell_type": "markdown",
   "metadata": {},
   "source": [
    "## Randomly selecting examples to train, validate and test"
   ]
  },
  {
   "cell_type": "code",
   "execution_count": 6,
   "metadata": {
    "collapsed": true
   },
   "outputs": [],
   "source": [
    "idx_train = np.random.choice(np.arange(len(train_dataset_log)), 10000, replace=False)\n",
    "idx_valid = np.random.choice(np.arange(len(valid_dataset_log)), 3000, replace=False)\n",
    "idx_test = np.random.choice(np.arange(len(test_dataset_log)), 3000, replace=False)\n",
    "train_sample_log = train_dataset_log[idx_train]\n",
    "train_label_sample_log = train_labels_log[idx_train]\n",
    "valid_sample_log = valid_dataset_log[idx_valid]\n",
    "valid_label_sample_log = valid_labels_log[idx_valid]\n",
    "test_sample_log = test_dataset_log[idx_test]\n",
    "test_label_sample_log = test_labels_log[idx_test]"
   ]
  },
  {
   "cell_type": "code",
   "execution_count": 7,
   "metadata": {},
   "outputs": [
    {
     "name": "stdout",
     "output_type": "stream",
     "text": [
      "Training data sample dimension:  (10000, 784)\n",
      "Training data labels sample dimension:  (10000,)\n",
      "Validation data sample dimension:  (3000, 784)\n",
      "Validation data labels sample dimension:  (3000,)\n",
      "Testing data sample dimension:  (3000, 784)\n",
      "Testing data labels sample dimension:  (3000,)\n"
     ]
    }
   ],
   "source": [
    "print(\"Training data sample dimension: \",train_sample_log.shape)\n",
    "print(\"Training data labels sample dimension: \", train_label_sample_log.shape)\n",
    "print(\"Validation data sample dimension: \",valid_sample_log.shape)\n",
    "print(\"Validation data labels sample dimension: \", valid_label_sample_log.shape)\n",
    "print(\"Testing data sample dimension: \",test_sample_log.shape)\n",
    "print(\"Testing data labels sample dimension: \", test_label_sample_log.shape)"
   ]
  },
  {
   "cell_type": "markdown",
   "metadata": {},
   "source": [
    "## Training the model and checking accuracy"
   ]
  },
  {
   "cell_type": "code",
   "execution_count": 21,
   "metadata": {},
   "outputs": [
    {
     "name": "stdout",
     "output_type": "stream",
     "text": [
      "[LibLinear]\n",
      "\n",
      "Regularization rate:  1.0\n",
      "Prediction accuracy in train set :  0.903\n",
      "Prediction accuracy in validation set :  0.796\n",
      "Prediction accuracy in test set :  0.872666666667\n",
      "-------------------------------------------\n",
      "[LibLinear]\n",
      "\n",
      "Regularization rate:  0.01\n",
      "Prediction accuracy in train set :  0.8367\n",
      "Prediction accuracy in validation set :  0.808333333333\n",
      "Prediction accuracy in test set :  0.889\n",
      "-------------------------------------------\n",
      "[LibLinear]\n",
      "\n",
      "Regularization rate:  0.001\n",
      "Prediction accuracy in train set :  0.8142\n",
      "Prediction accuracy in validation set :  0.800333333333\n",
      "Prediction accuracy in test set :  0.870666666667\n",
      "-------------------------------------------\n"
     ]
    }
   ],
   "source": [
    "regularization_rate = [1.0, 0.01, 0.001] # this is same as beta = [1, 0.01, 0.001]\n",
    "for i in regularization_rate:\n",
    "    model = LogisticRegression(verbose=1, n_jobs=-1, max_iter=800, penalty=\"l2\", C=i)\n",
    "    model.fit(train_sample_log, train_label_sample_log)\n",
    "    predicted_train_log = model.predict(train_sample_log)\n",
    "    predicted_valid_log = model.predict(valid_sample_log)\n",
    "    predicted_test_log = model.predict(test_sample_log)\n",
    "    print(\"\\n\")\n",
    "    print(\"Regularization rate: \", i)\n",
    "    print (\"Prediction accuracy in train set : \", \n",
    "           metrics.accuracy_score(train_label_sample_log, predicted_train_log))\n",
    "    print (\"Prediction accuracy in validation set : \", \n",
    "           metrics.accuracy_score(valid_label_sample_log, predicted_valid_log))\n",
    "    print (\"Prediction accuracy in test set : \", \n",
    "           metrics.accuracy_score(test_label_sample_log, predicted_test_log))\n",
    "    print(\"-------------------------------------------\")"
   ]
  },
  {
   "cell_type": "markdown",
   "metadata": {},
   "source": [
    "As we see, when we adjusting the regularization weight (`C` is the inverse coefficient of regularization. Refer page [Sklearn-Logistic Regression](http://scikit-learn.org/stable/modules/generated/sklearn.linear_model.LogisticRegression.html)) test prediction accuracy is changed  so as validation set. This means, the classifier will perform best with right value of `beta` with out losing it's ability to learn the general trend rather than overfitting to training data. "
   ]
  },
  {
   "cell_type": "markdown",
   "metadata": {},
   "source": [
    "# Reformat into shape desirable for `tensorflow`\n",
    "\n",
    "- Data as a flat matrix\n",
    "- Labels as float 1-hot encodings"
   ]
  },
  {
   "cell_type": "code",
   "execution_count": 8,
   "metadata": {},
   "outputs": [],
   "source": [
    "idx_train = np.random.choice(np.arange(len(train_dataset_log)), 10000, replace=False)\n",
    "idx_valid = np.random.choice(np.arange(len(valid_dataset_log)), 3000, replace=False)\n",
    "idx_test = np.random.choice(np.arange(len(test_dataset_log)), 3000, replace=False)\n",
    "train_sample_log = train_dataset_log[idx_train]\n",
    "train_label_sample_log = train_labels_log[idx_train]\n",
    "valid_sample_log = valid_dataset_log[idx_valid]\n",
    "valid_label_sample_log = valid_labels_log[idx_valid]\n",
    "test_sample_log = test_dataset_log[idx_test]\n",
    "test_label_sample_log = test_labels_log[idx_test]"
   ]
  },
  {
   "cell_type": "code",
   "execution_count": 14,
   "metadata": {},
   "outputs": [
    {
     "name": "stdout",
     "output_type": "stream",
     "text": [
      "Training set (10000, 784) (10000, 10)\n",
      "Validation set (3000, 784) (3000, 10)\n",
      "Test set (3000, 784) (3000, 10)\n"
     ]
    }
   ],
   "source": [
    "image_size = 28\n",
    "num_labels = 10\n",
    "\n",
    "def reformat(dataset, labels):\n",
    "  dataset = dataset.reshape((-1, image_size * image_size)).astype(np.float32)\n",
    "  # Map 1 to [0.0, 1.0, 0.0 ...], 2 to [0.0, 0.0, 1.0 ...]\n",
    "  labels = (np.arange(num_labels) == labels[:,None]).astype(np.float32)\n",
    "  return dataset, labels\n",
    "\n",
    "train_dataset, train_labels = reformat(train_sample_log, train_label_sample_log)\n",
    "valid_dataset, valid_labels = reformat(valid_sample_log, valid_label_sample_log)\n",
    "test_dataset, test_labels = reformat(test_sample_log, test_label_sample_log)\n",
    "print('Training set', train_dataset.shape, train_labels.shape)\n",
    "print('Validation set', valid_dataset.shape, valid_labels.shape)\n",
    "print('Test set', test_dataset.shape, test_labels.shape)"
   ]
  },
  {
   "cell_type": "code",
   "execution_count": 12,
   "metadata": {
    "collapsed": true
   },
   "outputs": [],
   "source": [
    "def accuracy(predictions, labels):\n",
    "  return (100.0 * np.sum(np.argmax(predictions, 1) == np.argmax(labels, 1))\n",
    "          / predictions.shape[0])"
   ]
  },
  {
   "cell_type": "markdown",
   "metadata": {},
   "source": [
    "## Logistic Regression with `L2` regression using `tensorflow`"
   ]
  },
  {
   "cell_type": "markdown",
   "metadata": {},
   "source": [
    "### Computational Graph"
   ]
  },
  {
   "cell_type": "code",
   "execution_count": 15,
   "metadata": {
    "collapsed": true
   },
   "outputs": [],
   "source": [
    "# This is to expedite the process \n",
    "train_subset = 10500\n",
    "# This is a good beta value to start with\n",
    "\n",
    "graph = tf.Graph()\n",
    "with graph.as_default():\n",
    "\n",
    "    # Input data.\n",
    "    # They're all constants.\n",
    "    tf_train_dataset = tf.constant(train_dataset[:train_subset, :])\n",
    "    tf_train_labels = tf.constant(train_labels[:train_subset])\n",
    "    tf_valid_dataset = tf.constant(valid_dataset)\n",
    "    tf_test_dataset = tf.constant(test_dataset)\n",
    "  \n",
    "    # Variables    \n",
    "    # They are variables we want to update and optimize.\n",
    "    beta = tf.Variable(0, dtype=tf.float32)\n",
    "    weights = tf.Variable(tf.truncated_normal([image_size * image_size, num_labels]))\n",
    "    biases = tf.Variable(tf.zeros([num_labels]))\n",
    "  \n",
    "    # Training computation.\n",
    "    logits = tf.matmul(tf_train_dataset, weights) + biases \n",
    "    # Original loss function\n",
    "    loss = tf.reduce_mean(tf.nn.softmax_cross_entropy_with_logits(logits=logits, labels=tf_train_labels) )\n",
    "    \n",
    "    # Loss function using L2 Regularization\n",
    "    regularizer = tf.nn.l2_loss(weights)\n",
    "    loss = tf.reduce_mean(loss + beta * regularizer)\n",
    "    \n",
    "    # Optimizer.\n",
    "    optimizer = tf.train.GradientDescentOptimizer(0.5).minimize(loss)\n",
    "  \n",
    "    # Predictions for the training, validation, and test data.\n",
    "    train_prediction = tf.nn.softmax(logits)\n",
    "    valid_prediction = tf.nn.softmax( tf.matmul(tf_valid_dataset, weights) + biases )\n",
    "    test_prediction = tf.nn.softmax(tf.matmul(tf_test_dataset, weights) + biases)"
   ]
  },
  {
   "cell_type": "code",
   "execution_count": 16,
   "metadata": {},
   "outputs": [
    {
     "name": "stdout",
     "output_type": "stream",
     "text": [
      "Initialized\n",
      "---------------------------------------\n",
      "Regularization coefficient (beta):  1\n",
      "Loss at step 0: 3131.05419921875\n",
      "Training accuracy: 13.4\n",
      "Validation accuracy: 19.4\n",
      "Loss at step 100: 1.8850555419921875\n",
      "Training accuracy: 58.0\n",
      "Validation accuracy: 56.7\n",
      "Loss at step 200: 1.9128667116165161\n",
      "Training accuracy: 56.3\n",
      "Validation accuracy: 55.6\n",
      "Loss at step 300: 1.9170057773590088\n",
      "Training accuracy: 55.2\n",
      "Validation accuracy: 56.0\n",
      "Loss at step 400: 1.9099663496017456\n",
      "Training accuracy: 56.5\n",
      "Validation accuracy: 56.2\n",
      "Loss at step 500: 1.9082928895950317\n",
      "Training accuracy: 55.7\n",
      "Validation accuracy: 56.0\n",
      "Loss at step 600: 1.931567668914795\n",
      "Training accuracy: 56.1\n",
      "Validation accuracy: 54.7\n",
      "Loss at step 700: 2.0014266967773438\n",
      "Training accuracy: 54.3\n",
      "Validation accuracy: 53.4\n",
      "Loss at step 800: 1.9024858474731445\n",
      "Training accuracy: 56.2\n",
      "Validation accuracy: 56.9\n",
      "Test accuracy: 62.9\n",
      "---------------------------------------\n",
      "Regularization coefficient (beta):  0.01\n",
      "Loss at step 0: 1.5275335311889648\n",
      "Training accuracy: 57.8\n",
      "Validation accuracy: 70.1\n",
      "Loss at step 100: 0.6723777055740356\n",
      "Training accuracy: 84.2\n",
      "Validation accuracy: 81.5\n",
      "Loss at step 200: 0.6638653874397278\n",
      "Training accuracy: 84.5\n",
      "Validation accuracy: 81.7\n",
      "Loss at step 300: 0.6616016030311584\n",
      "Training accuracy: 84.7\n",
      "Validation accuracy: 81.5\n",
      "Loss at step 400: 0.6607952117919922\n",
      "Training accuracy: 84.8\n",
      "Validation accuracy: 81.5\n",
      "Loss at step 500: 0.6604449152946472\n",
      "Training accuracy: 84.9\n",
      "Validation accuracy: 81.6\n",
      "Loss at step 600: 0.6602657437324524\n",
      "Training accuracy: 84.9\n",
      "Validation accuracy: 81.6\n",
      "Loss at step 700: 0.6601618528366089\n",
      "Training accuracy: 84.9\n",
      "Validation accuracy: 81.5\n",
      "Loss at step 800: 0.6600958704948425\n",
      "Training accuracy: 84.9\n",
      "Validation accuracy: 81.5\n",
      "Test accuracy: 89.4\n",
      "---------------------------------------\n",
      "Regularization coefficient (beta):  0.001\n",
      "Loss at step 0: 0.5851899981498718\n",
      "Training accuracy: 84.9\n",
      "Validation accuracy: 81.5\n",
      "Loss at step 100: 0.5579517483711243\n",
      "Training accuracy: 85.5\n",
      "Validation accuracy: 81.7\n",
      "Loss at step 200: 0.5456955432891846\n",
      "Training accuracy: 85.8\n",
      "Validation accuracy: 81.7\n",
      "Loss at step 300: 0.5374457240104675\n",
      "Training accuracy: 86.1\n",
      "Validation accuracy: 81.8\n",
      "Loss at step 400: 0.5313544273376465\n",
      "Training accuracy: 86.4\n",
      "Validation accuracy: 81.4\n",
      "Loss at step 500: 0.5266546607017517\n",
      "Training accuracy: 86.6\n",
      "Validation accuracy: 81.4\n",
      "Loss at step 600: 0.5229324698448181\n",
      "Training accuracy: 86.8\n",
      "Validation accuracy: 81.4\n",
      "Loss at step 700: 0.5199302434921265\n",
      "Training accuracy: 86.9\n",
      "Validation accuracy: 81.4\n",
      "Loss at step 800: 0.5174781680107117\n",
      "Training accuracy: 87.1\n",
      "Validation accuracy: 81.5\n",
      "Test accuracy: 89.5\n"
     ]
    }
   ],
   "source": [
    "num_steps = 801\n",
    "\n",
    "with tf.Session(graph=graph) as session:\n",
    "    # This is a one-time operation which ensures the parameters get initialized as\n",
    "    # we described in the graph: random weights for the matrix, zeros for the\n",
    "    # biases. \n",
    "    tf.global_variables_initializer().run()\n",
    "    print('Initialized')\n",
    "    \n",
    "    for i in [1, 0.01, 0.001]:\n",
    "        print(\"---------------------------------------\")\n",
    "        print(\"Regularization coefficient (beta): \", i)\n",
    "        for step in range(num_steps):\n",
    "            # Run the computations. We tell .run() that we want to run the optimizer,\n",
    "            # and get the loss value and the training predictions returned as numpy\n",
    "            # arrays.\n",
    "            session.run(beta.assign(i))\n",
    "            _, l, predictions = session.run([optimizer, loss, train_prediction])\n",
    "            if (step % 100 == 0):\n",
    "                print('Loss at step {}: {}'.format(step, l))\n",
    "                print('Training accuracy: {:.1f}'.format(accuracy(predictions, \n",
    "                                                         train_labels[:train_subset, :])))\n",
    "                # Calling .eval() on valid_prediction is basically like calling run(), but\n",
    "                # just to get that one numpy array. Note that it recomputes all its graph\n",
    "                # dependencies.\n",
    "            \n",
    "                # You don't have to do .eval above because we already ran the session for the\n",
    "                # train_prediction\n",
    "                print('Validation accuracy: {:.1f}'.format(accuracy(valid_prediction.eval(), \n",
    "                                                           valid_labels)))\n",
    "        print('Test accuracy: {:.1f}'.format(accuracy(test_prediction.eval(), test_labels))) \n"
   ]
  },
  {
   "cell_type": "markdown",
   "metadata": {},
   "source": [
    "# Computation graph for three layer with `relu` and `l2` regularization"
   ]
  },
  {
   "cell_type": "code",
   "execution_count": 22,
   "metadata": {
    "collapsed": true
   },
   "outputs": [],
   "source": [
    "batch_size = 128\n",
    "graph = tf.Graph()\n",
    "no_hidden_layer_neurons = 1024\n",
    "\n",
    "with graph.as_default():\n",
    "    # Input data. For the training data, we use a placeholder that will be fed\n",
    "    # at run time with a training minibatch.\n",
    "    tf_train_dataset = tf.placeholder(tf.float32, shape=(batch_size, image_size * image_size)) #10000 x 784\n",
    "    tf_train_labels = tf.placeholder(tf.float32, shape=(batch_size, num_labels)) # 10000 x 1\n",
    "    tf_valid_dataset = tf.constant(valid_dataset) \n",
    "    tf_test_dataset = tf.constant(test_dataset)\n",
    "    \n",
    "    beta = tf.Variable(0, dtype=tf.float32)\n",
    "    \n",
    "    # Hidden layer\n",
    "    w1 = tf.Variable(tf.truncated_normal([image_size * image_size, no_hidden_layer_neurons])) # 784 x 1024\n",
    "    b1 = tf.Variable(tf.zeros([no_hidden_layer_neurons])) # 1024 x1 \n",
    "    h1 = tf.add(tf.matmul(tf_train_dataset, w1), b1)\n",
    "    h1_activation = tf.nn.relu(h1)\n",
    "\n",
    "    \n",
    "    # Output layer\n",
    "    w2 = tf.Variable(tf.truncated_normal([no_hidden_layer_neurons, num_labels])) #1024 x 10\n",
    "    b2 = tf.Variable(tf.random_normal([num_labels])) #10x1\n",
    "    \n",
    "    h2 = tf.add(tf.matmul(h1_activation, w2), b2)\n",
    "    \n",
    "    # Converting to softmax for finding prediction accuracy in training data\n",
    "    train_prediction = tf.nn.softmax(h2)\n",
    "    \n",
    "    # Training computation.\n",
    "    loss = tf.reduce_mean(tf.nn.softmax_cross_entropy_with_logits(labels=tf_train_labels, logits=h2))\n",
    "    \n",
    "    # Loss function with L2 Regularization with beta=0.01\n",
    "    regularizers = tf.nn.l2_loss(w1) + tf.nn.l2_loss(w2)\n",
    "    loss = tf.reduce_mean(loss + beta * regularizers)\n",
    "\n",
    "    # Optimizer.\n",
    "    optimizer = tf.train.GradientDescentOptimizer(0.5).minimize(loss)\n",
    "    \n",
    "    # Prediction\n",
    "    def prediction(data):\n",
    "        h = tf.add(tf.matmul(data, w1), b1)\n",
    "        h_relu = tf.nn.relu(h)\n",
    "        prediction = tf.add(tf.matmul(h_relu, w2), b2)\n",
    "        return prediction\n",
    "\n",
    "\n",
    "    valid_prediction = prediction(tf_valid_dataset)\n",
    "    test_prediction = prediction(tf_test_dataset)"
   ]
  },
  {
   "cell_type": "markdown",
   "metadata": {},
   "source": [
    "# Session for the graph"
   ]
  },
  {
   "cell_type": "code",
   "execution_count": 23,
   "metadata": {},
   "outputs": [
    {
     "name": "stdout",
     "output_type": "stream",
     "text": [
      "Initialized\n",
      "---------------------------------------\n",
      "Regularization coefficient (beta):  1\n",
      "Minibatch loss at step 0: 314964.843750\n",
      "Minibatch accuracy: 11.7%\n",
      "Validation accuracy: 19.3%\n",
      "Minibatch loss at step 500: 2.304509\n",
      "Minibatch accuracy: 8.6%\n",
      "Validation accuracy: 9.9%\n",
      "Minibatch loss at step 1000: 2.306274\n",
      "Minibatch accuracy: 10.9%\n",
      "Validation accuracy: 10.6%\n",
      "Minibatch loss at step 1500: 2.305539\n",
      "Minibatch accuracy: 5.5%\n",
      "Validation accuracy: 9.9%\n",
      "Minibatch loss at step 2000: 2.305341\n",
      "Minibatch accuracy: 13.3%\n",
      "Validation accuracy: 9.9%\n",
      "Minibatch loss at step 2500: 2.313149\n",
      "Minibatch accuracy: 5.5%\n",
      "Validation accuracy: 9.9%\n",
      "Minibatch loss at step 3000: 2.304334\n",
      "Minibatch accuracy: 4.7%\n",
      "Validation accuracy: 10.6%\n",
      "Test accuracy: 10.5%\n",
      "---------------------------------------\n",
      "Regularization coefficient (beta):  0.01\n",
      "Minibatch loss at step 0: 2.305953\n",
      "Minibatch accuracy: 8.6%\n",
      "Validation accuracy: 10.6%\n",
      "Minibatch loss at step 500: 0.691224\n",
      "Minibatch accuracy: 86.7%\n",
      "Validation accuracy: 82.2%\n",
      "Minibatch loss at step 1000: 0.585033\n",
      "Minibatch accuracy: 88.3%\n",
      "Validation accuracy: 83.1%\n",
      "Minibatch loss at step 1500: 0.608985\n",
      "Minibatch accuracy: 89.8%\n",
      "Validation accuracy: 82.8%\n",
      "Minibatch loss at step 2000: 0.658855\n",
      "Minibatch accuracy: 85.2%\n",
      "Validation accuracy: 82.6%\n",
      "Minibatch loss at step 2500: 0.640725\n",
      "Minibatch accuracy: 87.5%\n",
      "Validation accuracy: 83.1%\n",
      "Minibatch loss at step 3000: 0.630335\n",
      "Minibatch accuracy: 88.3%\n",
      "Validation accuracy: 82.3%\n",
      "Test accuracy: 89.3%\n",
      "---------------------------------------\n",
      "Regularization coefficient (beta):  0.001\n",
      "Minibatch loss at step 0: 0.470662\n",
      "Minibatch accuracy: 87.5%\n",
      "Validation accuracy: 83.1%\n",
      "Minibatch loss at step 500: 0.408143\n",
      "Minibatch accuracy: 90.6%\n",
      "Validation accuracy: 83.5%\n",
      "Minibatch loss at step 1000: 0.219618\n",
      "Minibatch accuracy: 97.7%\n",
      "Validation accuracy: 84.1%\n",
      "Minibatch loss at step 1500: 0.229645\n",
      "Minibatch accuracy: 97.7%\n",
      "Validation accuracy: 83.8%\n",
      "Minibatch loss at step 2000: 0.222507\n",
      "Minibatch accuracy: 97.7%\n",
      "Validation accuracy: 83.5%\n",
      "Minibatch loss at step 2500: 0.191927\n",
      "Minibatch accuracy: 100.0%\n",
      "Validation accuracy: 83.7%\n",
      "Minibatch loss at step 3000: 0.245360\n",
      "Minibatch accuracy: 98.4%\n",
      "Validation accuracy: 83.9%\n",
      "Test accuracy: 91.0%\n"
     ]
    }
   ],
   "source": [
    "\n",
    "num_steps = 3001\n",
    "\n",
    "with tf.Session(graph=graph) as session:\n",
    "    tf.global_variables_initializer().run()\n",
    "    print(\"Initialized\")\n",
    "    for i in [1, 0.01, 0.001]:\n",
    "        print(\"---------------------------------------\")\n",
    "        print(\"Regularization coefficient (beta): \", i)\n",
    "        for step in range(num_steps):\n",
    "            # Pick an offset within the training data, which has been randomized.\n",
    "            # Note: we could use better randomization across epochs.\n",
    "            offset = (step * batch_size) % (train_labels.shape[0] - batch_size)\n",
    "            # Generate a minibatch.\n",
    "            batch_data = train_dataset[offset:(offset + batch_size), :]\n",
    "            batch_labels = train_labels[offset:(offset + batch_size), :]\n",
    "            # Prepare a dictionary telling the session where to feed the minibatch.\n",
    "            # The key of the dictionary is the placeholder node of the graph to be fed,\n",
    "            # and the value is the numpy array to feed to it.\n",
    "            session.run(beta.assign(i))\n",
    "            feed_dict = {tf_train_dataset : batch_data, tf_train_labels : batch_labels}\n",
    "            _, l, predictions = session.run([optimizer, loss, train_prediction], feed_dict=feed_dict)\n",
    "            if (step % 500 == 0):\n",
    "                print(\"Minibatch loss at step %d: %f\" % (step, l))\n",
    "                print(\"Minibatch accuracy: %.1f%%\" % accuracy(predictions, batch_labels))\n",
    "                print(\"Validation accuracy: %.1f%%\" % accuracy(valid_prediction.eval(), valid_labels))\n",
    "        print(\"Test accuracy: %.1f%%\" % accuracy(test_prediction.eval(), test_labels))"
   ]
  },
  {
   "cell_type": "markdown",
   "metadata": {},
   "source": [
    "### As we see the results, with suitable value of `beta` the accuracy poised to 91.0 %."
   ]
  },
  {
   "cell_type": "markdown",
   "metadata": {},
   "source": [
    "## Demonstration of extreme overfitting using `a few minbatches`"
   ]
  },
  {
   "cell_type": "markdown",
   "metadata": {},
   "source": [
    "### Computation graph"
   ]
  },
  {
   "cell_type": "code",
   "execution_count": 26,
   "metadata": {
    "collapsed": true
   },
   "outputs": [],
   "source": [
    "batch_size = 5000\n",
    "graph = tf.Graph()\n",
    "no_hidden_layer_neurons = 1024\n",
    "\n",
    "with graph.as_default():\n",
    "    # Input data. For the training data, we use a placeholder that will be fed\n",
    "    # at run time with a training minibatch.\n",
    "    tf_train_dataset = tf.placeholder(tf.float32, shape=(batch_size, image_size * image_size)) #10000 x 784\n",
    "    tf_train_labels = tf.placeholder(tf.float32, shape=(batch_size, num_labels)) # 10000 x 1\n",
    "    tf_valid_dataset = tf.constant(valid_dataset) \n",
    "    tf_test_dataset = tf.constant(test_dataset)\n",
    "    \n",
    "    beta = tf.Variable(0, dtype=tf.float32)\n",
    "    \n",
    "    # Hidden layer\n",
    "    w1 = tf.Variable(tf.truncated_normal([image_size * image_size, no_hidden_layer_neurons])) # 784 x 1024\n",
    "    b1 = tf.Variable(tf.zeros([no_hidden_layer_neurons])) # 1024 x1 \n",
    "    h1 = tf.add(tf.matmul(tf_train_dataset, w1), b1)\n",
    "    h1_activation = tf.nn.relu(h1)\n",
    "\n",
    "    \n",
    "    # Output layer\n",
    "    w2 = tf.Variable(tf.truncated_normal([no_hidden_layer_neurons, num_labels])) #1024 x 10\n",
    "    b2 = tf.Variable(tf.random_normal([num_labels])) #10x1\n",
    "    \n",
    "    h2 = tf.add(tf.matmul(h1_activation, w2), b2)\n",
    "    \n",
    "    # Converting to softmax for finding prediction accuracy in training data\n",
    "    train_prediction = tf.nn.softmax(h2)\n",
    "    \n",
    "    # Training computation.\n",
    "    loss = tf.reduce_mean(tf.nn.softmax_cross_entropy_with_logits(labels=tf_train_labels, logits=h2))\n",
    "    \n",
    "    # Loss function with L2 Regularization with beta=0.01\n",
    "    regularizers = tf.nn.l2_loss(w1) + tf.nn.l2_loss(w2)\n",
    "    loss = tf.reduce_mean(loss + beta * regularizers)\n",
    "\n",
    "    # Optimizer.\n",
    "    optimizer = tf.train.GradientDescentOptimizer(0.5).minimize(loss)\n",
    "    \n",
    "    # Prediction\n",
    "    def prediction(data):\n",
    "        h = tf.add(tf.matmul(data, w1), b1)\n",
    "        h_relu = tf.nn.relu(h)\n",
    "        prediction = tf.add(tf.matmul(h_relu, w2), b2)\n",
    "        return prediction\n",
    "\n",
    "\n",
    "    valid_prediction = prediction(tf_valid_dataset)\n",
    "    test_prediction = prediction(tf_test_dataset)"
   ]
  },
  {
   "cell_type": "markdown",
   "metadata": {},
   "source": [
    "### Session"
   ]
  },
  {
   "cell_type": "code",
   "execution_count": 27,
   "metadata": {},
   "outputs": [
    {
     "name": "stdout",
     "output_type": "stream",
     "text": [
      "Initialized\n",
      "---------------------------------------\n",
      "Regularization coefficient (beta):  0.01\n",
      "Minibatch loss at step 0: 3496.875244\n",
      "Minibatch accuracy: 7.9%\n",
      "Validation accuracy: 30.6%\n",
      "Minibatch loss at step 500: 21.268265\n",
      "Minibatch accuracy: 99.0%\n",
      "Validation accuracy: 82.7%\n",
      "Minibatch loss at step 1000: 0.751512\n",
      "Minibatch accuracy: 93.5%\n",
      "Validation accuracy: 83.1%\n"
     ]
    },
    {
     "ename": "KeyboardInterrupt",
     "evalue": "",
     "output_type": "error",
     "traceback": [
      "\u001b[0;31m---------------------------------------------------------------------------\u001b[0m",
      "\u001b[0;31mKeyboardInterrupt\u001b[0m                         Traceback (most recent call last)",
      "\u001b[0;32m<ipython-input-27-23e693c5c9f7>\u001b[0m in \u001b[0;36m<module>\u001b[0;34m()\u001b[0m\n\u001b[1;32m     18\u001b[0m             \u001b[0;31m# The key of the dictionary is the placeholder node of the graph to be fed,\u001b[0m\u001b[0;34m\u001b[0m\u001b[0;34m\u001b[0m\u001b[0m\n\u001b[1;32m     19\u001b[0m             \u001b[0;31m# and the value is the numpy array to feed to it.\u001b[0m\u001b[0;34m\u001b[0m\u001b[0;34m\u001b[0m\u001b[0m\n\u001b[0;32m---> 20\u001b[0;31m             \u001b[0msession\u001b[0m\u001b[0;34m.\u001b[0m\u001b[0mrun\u001b[0m\u001b[0;34m(\u001b[0m\u001b[0mbeta\u001b[0m\u001b[0;34m.\u001b[0m\u001b[0massign\u001b[0m\u001b[0;34m(\u001b[0m\u001b[0mi\u001b[0m\u001b[0;34m)\u001b[0m\u001b[0;34m)\u001b[0m\u001b[0;34m\u001b[0m\u001b[0m\n\u001b[0m\u001b[1;32m     21\u001b[0m             \u001b[0mfeed_dict\u001b[0m \u001b[0;34m=\u001b[0m \u001b[0;34m{\u001b[0m\u001b[0mtf_train_dataset\u001b[0m \u001b[0;34m:\u001b[0m \u001b[0mbatch_data\u001b[0m\u001b[0;34m,\u001b[0m \u001b[0mtf_train_labels\u001b[0m \u001b[0;34m:\u001b[0m \u001b[0mbatch_labels\u001b[0m\u001b[0;34m}\u001b[0m\u001b[0;34m\u001b[0m\u001b[0m\n\u001b[1;32m     22\u001b[0m             \u001b[0m_\u001b[0m\u001b[0;34m,\u001b[0m \u001b[0ml\u001b[0m\u001b[0;34m,\u001b[0m \u001b[0mpredictions\u001b[0m \u001b[0;34m=\u001b[0m \u001b[0msession\u001b[0m\u001b[0;34m.\u001b[0m\u001b[0mrun\u001b[0m\u001b[0;34m(\u001b[0m\u001b[0;34m[\u001b[0m\u001b[0moptimizer\u001b[0m\u001b[0;34m,\u001b[0m \u001b[0mloss\u001b[0m\u001b[0;34m,\u001b[0m \u001b[0mtrain_prediction\u001b[0m\u001b[0;34m]\u001b[0m\u001b[0;34m,\u001b[0m \u001b[0mfeed_dict\u001b[0m\u001b[0;34m=\u001b[0m\u001b[0mfeed_dict\u001b[0m\u001b[0;34m)\u001b[0m\u001b[0;34m\u001b[0m\u001b[0m\n",
      "\u001b[0;32m/Users/jenkins/anaconda/lib/python3.6/site-packages/tensorflow/python/client/session.py\u001b[0m in \u001b[0;36mrun\u001b[0;34m(self, fetches, feed_dict, options, run_metadata)\u001b[0m\n\u001b[1;32m    787\u001b[0m     \u001b[0;32mtry\u001b[0m\u001b[0;34m:\u001b[0m\u001b[0;34m\u001b[0m\u001b[0m\n\u001b[1;32m    788\u001b[0m       result = self._run(None, fetches, feed_dict, options_ptr,\n\u001b[0;32m--> 789\u001b[0;31m                          run_metadata_ptr)\n\u001b[0m\u001b[1;32m    790\u001b[0m       \u001b[0;32mif\u001b[0m \u001b[0mrun_metadata\u001b[0m\u001b[0;34m:\u001b[0m\u001b[0;34m\u001b[0m\u001b[0m\n\u001b[1;32m    791\u001b[0m         \u001b[0mproto_data\u001b[0m \u001b[0;34m=\u001b[0m \u001b[0mtf_session\u001b[0m\u001b[0;34m.\u001b[0m\u001b[0mTF_GetBuffer\u001b[0m\u001b[0;34m(\u001b[0m\u001b[0mrun_metadata_ptr\u001b[0m\u001b[0;34m)\u001b[0m\u001b[0;34m\u001b[0m\u001b[0m\n",
      "\u001b[0;32m/Users/jenkins/anaconda/lib/python3.6/site-packages/tensorflow/python/client/session.py\u001b[0m in \u001b[0;36m_run\u001b[0;34m(self, handle, fetches, feed_dict, options, run_metadata)\u001b[0m\n\u001b[1;32m    995\u001b[0m     \u001b[0;32mif\u001b[0m \u001b[0mfinal_fetches\u001b[0m \u001b[0;32mor\u001b[0m \u001b[0mfinal_targets\u001b[0m\u001b[0;34m:\u001b[0m\u001b[0;34m\u001b[0m\u001b[0m\n\u001b[1;32m    996\u001b[0m       results = self._do_run(handle, final_targets, final_fetches,\n\u001b[0;32m--> 997\u001b[0;31m                              feed_dict_string, options, run_metadata)\n\u001b[0m\u001b[1;32m    998\u001b[0m     \u001b[0;32melse\u001b[0m\u001b[0;34m:\u001b[0m\u001b[0;34m\u001b[0m\u001b[0m\n\u001b[1;32m    999\u001b[0m       \u001b[0mresults\u001b[0m \u001b[0;34m=\u001b[0m \u001b[0;34m[\u001b[0m\u001b[0;34m]\u001b[0m\u001b[0;34m\u001b[0m\u001b[0m\n",
      "\u001b[0;32m/Users/jenkins/anaconda/lib/python3.6/site-packages/tensorflow/python/client/session.py\u001b[0m in \u001b[0;36m_do_run\u001b[0;34m(self, handle, target_list, fetch_list, feed_dict, options, run_metadata)\u001b[0m\n\u001b[1;32m   1130\u001b[0m     \u001b[0;32mif\u001b[0m \u001b[0mhandle\u001b[0m \u001b[0;32mis\u001b[0m \u001b[0;32mNone\u001b[0m\u001b[0;34m:\u001b[0m\u001b[0;34m\u001b[0m\u001b[0m\n\u001b[1;32m   1131\u001b[0m       return self._do_call(_run_fn, self._session, feed_dict, fetch_list,\n\u001b[0;32m-> 1132\u001b[0;31m                            target_list, options, run_metadata)\n\u001b[0m\u001b[1;32m   1133\u001b[0m     \u001b[0;32melse\u001b[0m\u001b[0;34m:\u001b[0m\u001b[0;34m\u001b[0m\u001b[0m\n\u001b[1;32m   1134\u001b[0m       return self._do_call(_prun_fn, self._session, handle, feed_dict,\n",
      "\u001b[0;32m/Users/jenkins/anaconda/lib/python3.6/site-packages/tensorflow/python/client/session.py\u001b[0m in \u001b[0;36m_do_call\u001b[0;34m(self, fn, *args)\u001b[0m\n\u001b[1;32m   1137\u001b[0m   \u001b[0;32mdef\u001b[0m \u001b[0m_do_call\u001b[0m\u001b[0;34m(\u001b[0m\u001b[0mself\u001b[0m\u001b[0;34m,\u001b[0m \u001b[0mfn\u001b[0m\u001b[0;34m,\u001b[0m \u001b[0;34m*\u001b[0m\u001b[0margs\u001b[0m\u001b[0;34m)\u001b[0m\u001b[0;34m:\u001b[0m\u001b[0;34m\u001b[0m\u001b[0m\n\u001b[1;32m   1138\u001b[0m     \u001b[0;32mtry\u001b[0m\u001b[0;34m:\u001b[0m\u001b[0;34m\u001b[0m\u001b[0m\n\u001b[0;32m-> 1139\u001b[0;31m       \u001b[0;32mreturn\u001b[0m \u001b[0mfn\u001b[0m\u001b[0;34m(\u001b[0m\u001b[0;34m*\u001b[0m\u001b[0margs\u001b[0m\u001b[0;34m)\u001b[0m\u001b[0;34m\u001b[0m\u001b[0m\n\u001b[0m\u001b[1;32m   1140\u001b[0m     \u001b[0;32mexcept\u001b[0m \u001b[0merrors\u001b[0m\u001b[0;34m.\u001b[0m\u001b[0mOpError\u001b[0m \u001b[0;32mas\u001b[0m \u001b[0me\u001b[0m\u001b[0;34m:\u001b[0m\u001b[0;34m\u001b[0m\u001b[0m\n\u001b[1;32m   1141\u001b[0m       \u001b[0mmessage\u001b[0m \u001b[0;34m=\u001b[0m \u001b[0mcompat\u001b[0m\u001b[0;34m.\u001b[0m\u001b[0mas_text\u001b[0m\u001b[0;34m(\u001b[0m\u001b[0me\u001b[0m\u001b[0;34m.\u001b[0m\u001b[0mmessage\u001b[0m\u001b[0;34m)\u001b[0m\u001b[0;34m\u001b[0m\u001b[0m\n",
      "\u001b[0;32m/Users/jenkins/anaconda/lib/python3.6/site-packages/tensorflow/python/client/session.py\u001b[0m in \u001b[0;36m_run_fn\u001b[0;34m(session, feed_dict, fetch_list, target_list, options, run_metadata)\u001b[0m\n\u001b[1;32m   1115\u001b[0m                 run_metadata):\n\u001b[1;32m   1116\u001b[0m       \u001b[0;31m# Ensure any changes to the graph are reflected in the runtime.\u001b[0m\u001b[0;34m\u001b[0m\u001b[0;34m\u001b[0m\u001b[0m\n\u001b[0;32m-> 1117\u001b[0;31m       \u001b[0mself\u001b[0m\u001b[0;34m.\u001b[0m\u001b[0m_extend_graph\u001b[0m\u001b[0;34m(\u001b[0m\u001b[0;34m)\u001b[0m\u001b[0;34m\u001b[0m\u001b[0m\n\u001b[0m\u001b[1;32m   1118\u001b[0m       \u001b[0;32mwith\u001b[0m \u001b[0merrors\u001b[0m\u001b[0;34m.\u001b[0m\u001b[0mraise_exception_on_not_ok_status\u001b[0m\u001b[0;34m(\u001b[0m\u001b[0;34m)\u001b[0m \u001b[0;32mas\u001b[0m \u001b[0mstatus\u001b[0m\u001b[0;34m:\u001b[0m\u001b[0;34m\u001b[0m\u001b[0m\n\u001b[1;32m   1119\u001b[0m         return tf_session.TF_Run(session, options,\n",
      "\u001b[0;32m/Users/jenkins/anaconda/lib/python3.6/site-packages/tensorflow/python/client/session.py\u001b[0m in \u001b[0;36m_extend_graph\u001b[0;34m(self)\u001b[0m\n\u001b[1;32m   1164\u001b[0m         \u001b[0;32mwith\u001b[0m \u001b[0merrors\u001b[0m\u001b[0;34m.\u001b[0m\u001b[0mraise_exception_on_not_ok_status\u001b[0m\u001b[0;34m(\u001b[0m\u001b[0;34m)\u001b[0m \u001b[0;32mas\u001b[0m \u001b[0mstatus\u001b[0m\u001b[0;34m:\u001b[0m\u001b[0;34m\u001b[0m\u001b[0m\n\u001b[1;32m   1165\u001b[0m           tf_session.TF_ExtendGraph(\n\u001b[0;32m-> 1166\u001b[0;31m               self._session, graph_def.SerializeToString(), status)\n\u001b[0m\u001b[1;32m   1167\u001b[0m         \u001b[0mself\u001b[0m\u001b[0;34m.\u001b[0m\u001b[0m_opened\u001b[0m \u001b[0;34m=\u001b[0m \u001b[0;32mTrue\u001b[0m\u001b[0;34m\u001b[0m\u001b[0m\n\u001b[1;32m   1168\u001b[0m \u001b[0;34m\u001b[0m\u001b[0m\n",
      "\u001b[0;31mKeyboardInterrupt\u001b[0m: "
     ]
    }
   ],
   "source": [
    "\n",
    "num_steps = 3001\n",
    "\n",
    "with tf.Session(graph=graph) as session:\n",
    "    tf.global_variables_initializer().run()\n",
    "    print(\"Initialized\")\n",
    "    for i in [0.01]:\n",
    "        print(\"---------------------------------------\")\n",
    "        print(\"Regularization coefficient (beta): \", i)\n",
    "        for step in range(num_steps):\n",
    "            # Pick an offset within the training data, which has been randomized.\n",
    "            # Note: we could use better randomization across epochs.\n",
    "            offset = (step * batch_size) % (train_labels.shape[0] - batch_size)\n",
    "            # Generate a minibatch.\n",
    "            batch_data = train_dataset[offset:(offset + batch_size), :]\n",
    "            batch_labels = train_labels[offset:(offset + batch_size), :]\n",
    "            # Prepare a dictionary telling the session where to feed the minibatch.\n",
    "            # The key of the dictionary is the placeholder node of the graph to be fed,\n",
    "            # and the value is the numpy array to feed to it.\n",
    "            session.run(beta.assign(i))\n",
    "            feed_dict = {tf_train_dataset : batch_data, tf_train_labels : batch_labels}\n",
    "            _, l, predictions = session.run([optimizer, loss, train_prediction], feed_dict=feed_dict)\n",
    "            if (step % 500 == 0):\n",
    "                print(\"Minibatch loss at step %d: %f\" % (step, l))\n",
    "                print(\"Minibatch accuracy: %.1f%%\" % accuracy(predictions, batch_labels))\n",
    "                print(\"Validation accuracy: %.1f%%\" % accuracy(valid_prediction.eval(), valid_labels))\n",
    "        print(\"Test accuracy: %.1f%%\" % accuracy(test_prediction.eval(), test_labels))"
   ]
  }
 ],
 "metadata": {
  "kernelspec": {
   "display_name": "Python 3",
   "language": "python",
   "name": "python3"
  },
  "language_info": {
   "codemirror_mode": {
    "name": "ipython",
    "version": 3
   },
   "file_extension": ".py",
   "mimetype": "text/x-python",
   "name": "python",
   "nbconvert_exporter": "python",
   "pygments_lexer": "ipython3",
   "version": "3.6.1"
  }
 },
 "nbformat": 4,
 "nbformat_minor": 2
}
